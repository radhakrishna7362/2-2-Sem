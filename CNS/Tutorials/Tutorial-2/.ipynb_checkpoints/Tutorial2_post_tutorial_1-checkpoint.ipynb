{
 "cells": [
  {
   "cell_type": "markdown",
   "metadata": {},
   "source": [
    "**NAME: NERELLA VENKATA RADHAKRISHNA**\n",
    "\n",
    "**ID: 190031187**\n",
    "\n",
    "**TUTORIAL-2**"
   ]
  },
  {
   "cell_type": "code",
   "execution_count": 2,
   "metadata": {},
   "outputs": [
    {
     "name": "stdout",
     "output_type": "stream",
     "text": [
      "Enter bit stream:1011101\n",
      "Odd parity = 0\n",
      "Even parity = 1\n"
     ]
    }
   ],
   "source": [
    "bit = input(\"Enter bit stream:\")\n",
    "l = list(bit)\n",
    "e = 1\n",
    "for i in range(len(bit)):\n",
    "    l[i] = int(l[i])\n",
    "    if(l[i]!=1 and l[i]!=0):\n",
    "        print(\"Incorrect bit stream (it should contain only 0 and 1)\")\n",
    "        e=0\n",
    "        break\n",
    "if e!=0:\n",
    "    s = sum(l)\n",
    "    if s%2==0:\n",
    "        print(\"Odd parity = 1\")\n",
    "        print(\"Even parity = 0\")\n",
    "    else:\n",
    "        print(\"Odd parity = 0\")\n",
    "        print(\"Even parity = 1\")"
   ]
  }
 ],
 "metadata": {
  "kernelspec": {
   "display_name": "Python 3",
   "language": "python",
   "name": "python3"
  },
  "language_info": {
   "codemirror_mode": {
    "name": "ipython",
    "version": 3
   },
   "file_extension": ".py",
   "mimetype": "text/x-python",
   "name": "python",
   "nbconvert_exporter": "python",
   "pygments_lexer": "ipython3",
   "version": "3.9.1"
  }
 },
 "nbformat": 4,
 "nbformat_minor": 4
}
