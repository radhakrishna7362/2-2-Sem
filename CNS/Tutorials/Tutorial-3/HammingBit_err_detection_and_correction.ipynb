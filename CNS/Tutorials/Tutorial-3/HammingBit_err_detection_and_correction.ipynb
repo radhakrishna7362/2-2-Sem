{
 "cells": [
  {
   "cell_type": "code",
   "execution_count": 2,
   "metadata": {
    "id": "x6zLdmeWO47C"
   },
   "outputs": [],
   "source": [
    "def detectError(arr, nr): \n",
    "    n = len(arr) \n",
    "    res = 0\n",
    "    for i in range(nr): \n",
    "        val = 0\n",
    "        for j in range(1, n + 1): \n",
    "            if(j & (2**i) == (2**i)): \n",
    "                val = val ^ int(arr[-1 * j]) \n",
    "        res = res + val*(10**i) \n",
    "    return int(str(res), 2)"
   ]
  },
  {
   "cell_type": "code",
   "execution_count": 3,
   "metadata": {
    "id": "cc9btG5BMQfp"
   },
   "outputs": [],
   "source": [
    "def calcRedundantBits(m): \n",
    "    for i in range(m): \n",
    "        if(2**i >= m + i + 1): \n",
    "            return i "
   ]
  },
  {
   "cell_type": "code",
   "execution_count": 4,
   "metadata": {
    "id": "k8GsCg-WORIV"
   },
   "outputs": [],
   "source": [
    "def posRedundantBits(data, r): \n",
    "    j = 0\n",
    "    k = 1\n",
    "    m = len(data) \n",
    "    res = '' \n",
    "    for i in range(1, m + r+1): \n",
    "        if(i == 2**j): \n",
    "            res = res + '0'\n",
    "            j += 1\n",
    "        else: \n",
    "            res = res + data[-1 * k] \n",
    "            k += 1\n",
    "    return res[::-1]"
   ]
  },
  {
   "cell_type": "code",
   "execution_count": 5,
   "metadata": {
    "id": "re2hoj3GOZ3O"
   },
   "outputs": [],
   "source": [
    "def calcParityBits(arr, r): \n",
    "    n = len(arr)  \n",
    "    for i in range(r): \n",
    "        val = 0\n",
    "        for j in range(1, n + 1):  \n",
    "            if(j & (2**i) == (2**i)): \n",
    "                val = val ^ int(arr[-1 * j]) \n",
    "        arr = arr[:n-(2**i)] + str(val) + arr[n-(2**i)+1:] \n",
    "    return arr "
   ]
  },
  {
   "cell_type": "code",
   "execution_count": 8,
   "metadata": {
    "colab": {
     "base_uri": "https://localhost:8080/"
    },
    "id": "YnXobhw4JK1Z",
    "outputId": "4dd936f7-f32a-422a-fbb9-0040ef972f1f"
   },
   "outputs": [
    {
     "name": "stdout",
     "output_type": "stream",
     "text": [
      "Press 1 for generating hamming code \n",
      "Press 2 for finding error in hamming code\n",
      "Press 3 to exit\t Enter your choice:--\n",
      "1\n",
      "Enter data to be transferred:1001\n",
      "Data transferred is=1001100\n",
      "Press 1 for generating hamming code \n",
      "Press 2 for finding error in hamming code\n",
      "Press 3 to exit\t Enter your choice:--\n",
      "2\n",
      "Enter the HammingCode:1001101\n",
      "The position of error is= 1\n",
      "Press 1 for generating hamming code \n",
      "Press 2 for finding error in hamming code\n",
      "Press 3 to exit\t Enter your choice:--\n",
      "2\n",
      "Enter the HammingCode:1001100\n",
      "No Error\n",
      "Press 1 for generating hamming code \n",
      "Press 2 for finding error in hamming code\n",
      "Press 3 to exit\t Enter your choice:--\n",
      "3\n"
     ]
    }
   ],
   "source": [
    "while True:\n",
    "  option=int (input('Press 1 for generating hamming code \\nPress 2 for finding error in hamming code\\nPress 3 to exit\\t Enter your choice:--\\n'))\n",
    "  if option == 1:\n",
    "    data = input(\"Enter data to be transferred:\")\n",
    "    m = len(data) \n",
    "    r = calcRedundantBits(m)\n",
    "    arr = posRedundantBits(data, r)\n",
    "    arr = calcParityBits(arr, r)\n",
    "    print(\"Data transferred is=\" + arr) \n",
    "  elif option == 2:\n",
    "    data = input(\"Enter the HammingCode:\")\n",
    "    m = len(data) \n",
    "    r = calcRedundantBits(m)\n",
    "    correction = detectError(data, r) \n",
    "    if correction !=0:\n",
    "        print(\"The position of error is=\",correction)\n",
    "    else:\n",
    "        print(\"No Error\")\n",
    "  else :\n",
    "    break"
   ]
  }
 ],
 "metadata": {
  "colab": {
   "collapsed_sections": [],
   "name": "HammingBit err detection and correction.ipynb",
   "provenance": []
  },
  "kernelspec": {
   "display_name": "Python 3",
   "language": "python",
   "name": "python3"
  },
  "language_info": {
   "codemirror_mode": {
    "name": "ipython",
    "version": 3
   },
   "file_extension": ".py",
   "mimetype": "text/x-python",
   "name": "python",
   "nbconvert_exporter": "python",
   "pygments_lexer": "ipython3",
   "version": "3.9.1"
  }
 },
 "nbformat": 4,
 "nbformat_minor": 1
}
