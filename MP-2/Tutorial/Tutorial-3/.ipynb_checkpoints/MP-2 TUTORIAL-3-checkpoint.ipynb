{
 "cells": [
  {
   "cell_type": "markdown",
   "metadata": {
    "id": "yxysyCmkIyFk"
   },
   "source": [
    "**NAME: NERELLA VENKATA RADHAKRISHNA**\n",
    "\n",
    "**ID: 190031187**\n",
    "\n",
    "**TUTORIAL-3**"
   ]
  },
  {
   "cell_type": "code",
   "execution_count": 1,
   "metadata": {
    "id": "gzZcXrrAnY-T"
   },
   "outputs": [],
   "source": [
    "# Floyd-warshall algorithm\n",
    "\n",
    "import sys\n",
    "INF = sys.maxsize\n",
    "\n",
    "def floydWarshall(graph):\n",
    "    # number of vertices in the graph\n",
    "    n = len(graph)\n",
    "    \n",
    "    # dist will be the output matrix that will have the shortest distances between every pair of vertex.\n",
    "    dist = [[] for i in range(n)]\n",
    "    \n",
    "    \n",
    "    # Initialize the dist matrix as same as the input graph matrix.\n",
    "    for i in range(n):\n",
    "        for j in range(n):\n",
    "            dist[i].append(graph[i][j])\n",
    "\n",
    "    # Taking all vertices one by one and setting them as intermediate vertices\n",
    "    for k in range(n):\n",
    "        # Pick all vertices as source one by one.\n",
    "        for i in range(n):\n",
    "            # Pick all vertices as the destination for the above choosen source vertex.\n",
    "            for j in range(n):\n",
    "                # Update the value of dist[i][j] if k provides a shortest path from i to j\n",
    "                dist[i][j] = min(dist[i][j],dist[i][k]+dist[k][j])\n",
    "\n",
    "    # Shortest distance for every pair of vertex.\n",
    "    print('Shortest Distance between every pair of vertex:-')\n",
    "    for i in range(n):\n",
    "        for j in range(n):\n",
    "            if dist[i][j]==INF:\n",
    "                print (\"%7s\" % (\"INF\"),end=' ')\n",
    "            else:\n",
    "                print (\"%7s\" % (dist[i][j]),end=' ')\n",
    "        print()"
   ]
  },
  {
   "cell_type": "code",
   "execution_count": 2,
   "metadata": {
    "colab": {
     "base_uri": "https://localhost:8080/"
    },
    "id": "f1as8dO_nhxv",
    "outputId": "57cb0a62-f937-40ee-d2fe-2817081635ad"
   },
   "outputs": [
    {
     "name": "stdout",
     "output_type": "stream",
     "text": [
      "Shortest Distance between every pair of vertex:-\n",
      "      0       5       8       9 \n",
      "    INF       0       3       4 \n",
      "    INF     INF       0       1 \n",
      "    INF     INF     INF       0 \n"
     ]
    }
   ],
   "source": [
    "graph = [[0,5,INF,10],[INF,0,3,INF],[INF,INF,0,1],[INF,INF,INF,0]]\n",
    "\n",
    "floydWarshall(graph)"
   ]
  },
  {
   "cell_type": "code",
   "execution_count": 3,
   "metadata": {
    "colab": {
     "base_uri": "https://localhost:8080/"
    },
    "id": "pG-x44H7n1eO",
    "outputId": "2221824e-5e36-461d-b85a-86fd0c2fa9e3"
   },
   "outputs": [
    {
     "name": "stdout",
     "output_type": "stream",
     "text": [
      "0  3  7  5   \n",
      "2  0  6  4   \n",
      "3  1  0  5   \n",
      "5  3  2  0   \n"
     ]
    }
   ],
   "source": [
    "#Example-3\n",
    "\n",
    "# Floyd Warshall Algorithm in python\n",
    "# The number of vertices\n",
    "nV = 4\n",
    "INF = 999\n",
    "# Algorithm implementation\n",
    "def floyd_warshall(G):\n",
    "    distance = list(map(lambda i: list(map(lambda j: j, i)), G))\n",
    "    # Adding vertices individually\n",
    "    for k in range(nV):\n",
    "        for i in range(nV):\n",
    "            for j in range(nV):\n",
    "                distance[i][j] = min(distance[i][j], distance[i][k] + distance[k][j])\n",
    "    print_solution(distance)\n",
    "# Printing the solution\n",
    "def print_solution(distance):\n",
    "    for i in range(nV):\n",
    "        for j in range(nV):\n",
    "            if(distance[i][j] == INF):\n",
    "                print(\"INF\", end=\" \")\n",
    "            else:\n",
    "                print(distance[i][j], end=\"  \")\n",
    "        print(\" \")\n",
    "G = [[0, 3, INF, 5],\n",
    "         [2, 0, INF, 4],\n",
    "         [INF, 1, 0, INF],\n",
    "         [INF, INF, 2, 0]]\n",
    "floyd_warshall(G)"
   ]
  },
  {
   "cell_type": "code",
   "execution_count": 4,
   "metadata": {
    "colab": {
     "base_uri": "https://localhost:8080/"
    },
    "id": "LFuOCRywqKvV",
    "outputId": "8aab0d2b-c2ee-45fb-d7d4-30f297a42580"
   },
   "outputs": [
    {
     "name": "stdout",
     "output_type": "stream",
     "text": [
      "Shortest Distance between every pair of vertex:-\n",
      "      0      -1      -2       0 \n",
      "      4       0       2       4 \n",
      "      5       1       0       2 \n",
      "      3      -1       1       0 \n"
     ]
    }
   ],
   "source": [
    "# Problem 2\n",
    "graph = [[0,INF,-2,INF],[4,0,3,INF],[INF,INF,0,2],[INF,-1,INF,0]]\n",
    "\n",
    "floydWarshall(graph)"
   ]
  }
 ],
 "metadata": {
  "colab": {
   "collapsed_sections": [],
   "name": "MP-2 TUTORIAL-3.ipynb",
   "provenance": []
  },
  "kernelspec": {
   "display_name": "Python 3",
   "language": "python",
   "name": "python3"
  },
  "language_info": {
   "codemirror_mode": {
    "name": "ipython",
    "version": 3
   },
   "file_extension": ".py",
   "mimetype": "text/x-python",
   "name": "python",
   "nbconvert_exporter": "python",
   "pygments_lexer": "ipython3",
   "version": "3.9.1"
  }
 },
 "nbformat": 4,
 "nbformat_minor": 1
}
