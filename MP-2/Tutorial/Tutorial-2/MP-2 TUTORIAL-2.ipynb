{
 "cells": [
  {
   "cell_type": "markdown",
   "metadata": {
    "id": "yxysyCmkIyFk"
   },
   "source": [
    "**NAME: NERELLA VENKATA RADHAKRISHNA**\n",
    "\n",
    "**ID: 190031187**\n",
    "\n",
    "**TUTORIAL-2**"
   ]
  },
  {
   "cell_type": "code",
   "execution_count": 1,
   "metadata": {
    "id": "ceu4v2AlIuv8"
   },
   "outputs": [],
   "source": [
    "#Langrange Multipliers\n",
    "\n",
    "import numpy as np\n",
    "\n",
    "def func(X):\n",
    "  x=X[0]\n",
    "  y=X[1]\n",
    "  L=X[2]\n",
    "  return 6*x**2+12*y**2-L*(x+y-90)"
   ]
  },
  {
   "cell_type": "code",
   "execution_count": 6,
   "metadata": {
    "executionInfo": {
     "elapsed": 1817,
     "status": "ok",
     "timestamp": 1611556435568,
     "user": {
      "displayName": "Radha Krishna",
      "photoUrl": "https://lh3.googleusercontent.com/a-/AOh14GiTjbSMlgPspZrbcvWkvQ0e7mQZ6wRltta96EzUNg=s64",
      "userId": "03805395289779420508"
     },
     "user_tz": -330
    },
    "id": "dPEohqIAJRTf"
   },
   "outputs": [],
   "source": [
    "def dfunc(X):\n",
    "  dLambda=np.zeros(len(X))\n",
    "  h=1e-3\n",
    "  for i in range(len(X)):\n",
    "    dX=np.zeros(len(X))\n",
    "    dX[i]=h\n",
    "    dLambda[i]=(func(X+dX)-func(X-dX))/(2*h)\n",
    "  return dLambda"
   ]
  },
  {
   "cell_type": "code",
   "execution_count": 7,
   "metadata": {
    "colab": {
     "base_uri": "https://localhost:8080/"
    },
    "executionInfo": {
     "elapsed": 1511,
     "status": "ok",
     "timestamp": 1611556438194,
     "user": {
      "displayName": "Radha Krishna",
      "photoUrl": "https://lh3.googleusercontent.com/a-/AOh14GiTjbSMlgPspZrbcvWkvQ0e7mQZ6wRltta96EzUNg=s64",
      "userId": "03805395289779420508"
     },
     "user_tz": -330
    },
    "id": "KVOHyv3uJn80",
    "outputId": "6e2ade90-bfcc-4677-d9a0-6070b6f07185"
   },
   "outputs": [
    {
     "name": "stdout",
     "output_type": "stream",
     "text": [
      "[ 60.          30.         720.00000001] 32400.0\n",
      "[ 60.          30.         719.99999999] 32400.0\n"
     ]
    }
   ],
   "source": [
    "from scipy.optimize import fsolve\n",
    "x1=fsolve(dfunc,[1,1,0])\n",
    "print(x1,func(x1))\n",
    "x2=fsolve(dfunc,[-1,-1,0])\n",
    "print(x2,func(x2))"
   ]
  },
  {
   "cell_type": "code",
   "execution_count": 11,
   "metadata": {
    "colab": {
     "base_uri": "https://localhost:8080/"
    },
    "executionInfo": {
     "elapsed": 3847,
     "status": "ok",
     "timestamp": 1611556811662,
     "user": {
      "displayName": "Radha Krishna",
      "photoUrl": "https://lh3.googleusercontent.com/a-/AOh14GiTjbSMlgPspZrbcvWkvQ0e7mQZ6wRltta96EzUNg=s64",
      "userId": "03805395289779420508"
     },
     "user_tz": -330
    },
    "id": "3ks27cO2RUhd",
    "outputId": "8f1e5aa4-05cd-4ea6-c58e-c9bef9e7d6fe"
   },
   "outputs": [
    {
     "name": "stdout",
     "output_type": "stream",
     "text": [
      "Collecting pyatom\n",
      "  Downloading https://files.pythonhosted.org/packages/e3/1b/ea029151d3ff734277c2adbd20addd9fee8e7105ec8659ffcb0834a29312/pyatom-0.0.10-py3-none-any.whl\n",
      "Installing collected packages: pyatom\n",
      "Successfully installed pyatom-0.0.10\n"
     ]
    }
   ],
   "source": [
    "pip install pyatom"
   ]
  },
  {
   "cell_type": "code",
   "execution_count": 8,
   "metadata": {
    "colab": {
     "base_uri": "https://localhost:8080/"
    },
    "executionInfo": {
     "elapsed": 6823,
     "status": "ok",
     "timestamp": 1611556629531,
     "user": {
      "displayName": "Radha Krishna",
      "photoUrl": "https://lh3.googleusercontent.com/a-/AOh14GiTjbSMlgPspZrbcvWkvQ0e7mQZ6wRltta96EzUNg=s64",
      "userId": "03805395289779420508"
     },
     "user_tz": -330
    },
    "id": "H_hNkjlHQcPI",
    "outputId": "2e22a0e5-499c-4ab6-de15-e85459f31787"
   },
   "outputs": [
    {
     "name": "stdout",
     "output_type": "stream",
     "text": [
      "Looking in indexes: https://pypi.gurobi.com\n",
      "Collecting gurobipy\n",
      "\u001b[?25l  Downloading https://pypi.gurobi.com/gurobipy/gurobipy-9.1.1-cp36-cp36m-manylinux1_x86_64.whl (11.1MB)\n",
      "\u001b[K     |████████████████████████████████| 11.1MB 2.1MB/s \n",
      "\u001b[?25hInstalling collected packages: gurobipy\n",
      "Successfully installed gurobipy-9.1.1\n"
     ]
    }
   ],
   "source": [
    "pip install -i https://pypi.gurobi.com gurobipy "
   ]
  },
  {
   "cell_type": "code",
   "execution_count": 9,
   "metadata": {
    "colab": {
     "base_uri": "https://localhost:8080/"
    },
    "executionInfo": {
     "elapsed": 4221,
     "status": "ok",
     "timestamp": 1611556639121,
     "user": {
      "displayName": "Radha Krishna",
      "photoUrl": "https://lh3.googleusercontent.com/a-/AOh14GiTjbSMlgPspZrbcvWkvQ0e7mQZ6wRltta96EzUNg=s64",
      "userId": "03805395289779420508"
     },
     "user_tz": -330
    },
    "id": "wSjORkr4QqNN",
    "outputId": "58e513fb-bd4a-448f-915c-7dcf6a8330a9"
   },
   "outputs": [
    {
     "name": "stdout",
     "output_type": "stream",
     "text": [
      "Collecting rsome\n",
      "  Downloading https://files.pythonhosted.org/packages/af/89/89da29b18d1aa5d033fc7d01f8e50b87d18a4ccaf88aa82e4a34d8ddb4bf/rsome-0.0.7-py3-none-any.whl\n",
      "Installing collected packages: rsome\n",
      "Successfully installed rsome-0.0.7\n"
     ]
    }
   ],
   "source": [
    "pip install rsome"
   ]
  },
  {
   "cell_type": "code",
   "execution_count": 13,
   "metadata": {
    "colab": {
     "base_uri": "https://localhost:8080/"
    },
    "executionInfo": {
     "elapsed": 916,
     "status": "ok",
     "timestamp": 1611556830881,
     "user": {
      "displayName": "Radha Krishna",
      "photoUrl": "https://lh3.googleusercontent.com/a-/AOh14GiTjbSMlgPspZrbcvWkvQ0e7mQZ6wRltta96EzUNg=s64",
      "userId": "03805395289779420508"
     },
     "user_tz": -330
    },
    "id": "kwdmJgHgQs9U",
    "outputId": "93eb108a-8354-44e0-b096-1ed5a584a4f8"
   },
   "outputs": [
    {
     "name": "stdout",
     "output_type": "stream",
     "text": [
      "Restricted license - for non-production use only - expires 2022-01-13\n",
      "Being solved by Gurobi...\n",
      "Solution status: 2\n",
      "Running time: 0.0005s\n"
     ]
    }
   ],
   "source": [
    "import pyatom.lp as lp\n",
    "import pyatom.grb_solver as grb\n",
    "model=lp.Model()\n",
    "y1=model.dvar()\n",
    "y2=model.dvar()\n",
    "y3=model.dvar()\n",
    "y4=model.dvar()\n",
    "model.max(16*y1+22*y2+12*y3+8*y4)\n",
    "model.st(5*y1+7*y2+4*y3+3*y4<=14)\n",
    "model.st(y1>=0)\n",
    "model.st(y1<=1)\n",
    "model.st(y2>=0)\n",
    "model.st(y2<=1)\n",
    "model.st(y3>=0)\n",
    "model.st(y3<=1)\n",
    "model.st(y4>=0)\n",
    "model.st(y4<=1)\n",
    "model.solve(grb)"
   ]
  },
  {
   "cell_type": "code",
   "execution_count": 14,
   "metadata": {
    "colab": {
     "base_uri": "https://localhost:8080/"
    },
    "executionInfo": {
     "elapsed": 900,
     "status": "ok",
     "timestamp": 1611556906896,
     "user": {
      "displayName": "Radha Krishna",
      "photoUrl": "https://lh3.googleusercontent.com/a-/AOh14GiTjbSMlgPspZrbcvWkvQ0e7mQZ6wRltta96EzUNg=s64",
      "userId": "03805395289779420508"
     },
     "user_tz": -330
    },
    "id": "qihVLl1yRoMX",
    "outputId": "8e6890b4-dc35-47e6-9dea-714c40c3186d"
   },
   "outputs": [
    {
     "name": "stdout",
     "output_type": "stream",
     "text": [
      "44.0\n",
      "[1.]\n",
      "[1.]\n",
      "[0.5]\n",
      "[0.]\n"
     ]
    }
   ],
   "source": [
    "print(model.get())\n",
    "print(y1.get())\n",
    "print(y2.get())\n",
    "print(y3.get())\n",
    "print(y4.get())"
   ]
  }
 ],
 "metadata": {
  "colab": {
   "authorship_tag": "ABX9TyPVq+M4laEH2vUEfxUZiEFX",
   "collapsed_sections": [],
   "name": "MP-2 TUTORIAL-2.ipynb",
   "provenance": []
  },
  "kernelspec": {
   "display_name": "Python 3",
   "language": "python",
   "name": "python3"
  },
  "language_info": {
   "codemirror_mode": {
    "name": "ipython",
    "version": 3
   },
   "file_extension": ".py",
   "mimetype": "text/x-python",
   "name": "python",
   "nbconvert_exporter": "python",
   "pygments_lexer": "ipython3",
   "version": "3.9.1"
  }
 },
 "nbformat": 4,
 "nbformat_minor": 1
}
