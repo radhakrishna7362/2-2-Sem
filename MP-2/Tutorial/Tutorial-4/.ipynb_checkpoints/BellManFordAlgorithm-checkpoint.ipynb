{
 "cells": [
  {
   "cell_type": "code",
   "execution_count": 5,
   "metadata": {},
   "outputs": [],
   "source": [
    "class BellManFordAlgorithm:\n",
    "    def __init__(self,vertices):\n",
    "        self.vertices=vertices\n",
    "        self.graph=[]\n",
    "    \n",
    "    def AddEdge(self,u,v,w):\n",
    "        self.graph.append([u,v,w])\n",
    "    \n",
    "    def printSol(self,sol):\n",
    "        print(\"Vertex\\t\\tDistanceFromSource\")\n",
    "        for i in range(self.vertices):\n",
    "            print(i,'\\t','\\t',sol[i])\n",
    "\n",
    "    def Algorithm(self,src):\n",
    "        \n",
    "        dis=[float(\"Inf\")]*self.vertices\n",
    "        dis[src]=0\n",
    "        \n",
    "        for i in range(self.vertices-1):\n",
    "            for u,v,w in self.graph:\n",
    "                if dis[u]!=float(\"Inf\") and dis[u]+w<dis[v]:\n",
    "                    dis[v]=dis[u]+w\n",
    "        \n",
    "        for u,v,w in self.graph:\n",
    "            if dis[u]!=float(\"Inf\") and dis[u]+w<dis[v]:\n",
    "                print(\"Graph contains negative weight cycle\")\n",
    "                return\n",
    "        \n",
    "        self.printSol(dis)"
   ]
  },
  {
   "cell_type": "code",
   "execution_count": 6,
   "metadata": {},
   "outputs": [
    {
     "name": "stdout",
     "output_type": "stream",
     "text": [
      "Vertex\t\tDistanceFromSource\n",
      "0 \t \t 0\n",
      "1 \t \t -1\n",
      "2 \t \t 2\n",
      "3 \t \t -2\n",
      "4 \t \t 1\n"
     ]
    }
   ],
   "source": [
    "g = BellManFordAlgorithm(5)\n",
    "g.AddEdge(0,1,-1)\n",
    "g.AddEdge(0,2,4)\n",
    "g.AddEdge(1,2,3)\n",
    "g.AddEdge(1,3,2)\n",
    "g.AddEdge(3,2,5)\n",
    "g.AddEdge(3,1,1)\n",
    "g.AddEdge(1,4,2)\n",
    "g.AddEdge(4,3,-3)\n",
    "\n",
    "g.Algorithm(0)"
   ]
  }
 ],
 "metadata": {
  "kernelspec": {
   "display_name": "Python 3",
   "language": "python",
   "name": "python3"
  },
  "language_info": {
   "codemirror_mode": {
    "name": "ipython",
    "version": 3
   },
   "file_extension": ".py",
   "mimetype": "text/x-python",
   "name": "python",
   "nbconvert_exporter": "python",
   "pygments_lexer": "ipython3",
   "version": "3.9.1"
  }
 },
 "nbformat": 4,
 "nbformat_minor": 4
}
