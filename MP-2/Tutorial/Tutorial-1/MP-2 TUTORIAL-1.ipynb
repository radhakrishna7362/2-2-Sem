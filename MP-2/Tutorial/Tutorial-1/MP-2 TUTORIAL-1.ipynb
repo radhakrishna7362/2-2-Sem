{
 "cells": [
  {
   "cell_type": "markdown",
   "metadata": {
    "id": "nVY0ce4LFtis"
   },
   "source": [
    "**NAME: NERELLA VENKATA RADHAKRISHNA**\n",
    "\n",
    "**ID: 190031187**\n",
    "\n",
    "**TUTORIAL-1**"
   ]
  },
  {
   "cell_type": "code",
   "execution_count": null,
   "metadata": {
    "colab": {
     "base_uri": "https://localhost:8080/"
    },
    "executionInfo": {
     "elapsed": 5283,
     "status": "ok",
     "timestamp": 1611398122538,
     "user": {
      "displayName": "Radha Krishna",
      "photoUrl": "https://lh3.googleusercontent.com/a-/AOh14GiTjbSMlgPspZrbcvWkvQ0e7mQZ6wRltta96EzUNg=s64",
      "userId": "03805395289779420508"
     },
     "user_tz": -330
    },
    "id": "SN7GFxwMyzWC",
    "outputId": "594e2a59-9f96-4ad4-eccf-fe4a0fc66127"
   },
   "outputs": [
    {
     "name": "stdout",
     "output_type": "stream",
     "text": [
      "Collecting pyatom\n",
      "  Downloading https://files.pythonhosted.org/packages/e3/1b/ea029151d3ff734277c2adbd20addd9fee8e7105ec8659ffcb0834a29312/pyatom-0.0.10-py3-none-any.whl\n",
      "Installing collected packages: pyatom\n",
      "Successfully installed pyatom-0.0.10\n"
     ]
    }
   ],
   "source": [
    "pip install pyatom"
   ]
  },
  {
   "cell_type": "code",
   "execution_count": null,
   "metadata": {
    "colab": {
     "base_uri": "https://localhost:8080/"
    },
    "executionInfo": {
     "elapsed": 6433,
     "status": "ok",
     "timestamp": 1611398159403,
     "user": {
      "displayName": "Radha Krishna",
      "photoUrl": "https://lh3.googleusercontent.com/a-/AOh14GiTjbSMlgPspZrbcvWkvQ0e7mQZ6wRltta96EzUNg=s64",
      "userId": "03805395289779420508"
     },
     "user_tz": -330
    },
    "id": "-ucJCwGUyzWT",
    "outputId": "b8afcdbf-d18c-45b9-d320-41a77b70e3cd"
   },
   "outputs": [
    {
     "name": "stdout",
     "output_type": "stream",
     "text": [
      "Looking in indexes: https://pypi.gurobi.com\n",
      "Collecting gurobipy\n",
      "\u001b[?25l  Downloading https://pypi.gurobi.com/gurobipy/gurobipy-9.1.1-cp36-cp36m-manylinux1_x86_64.whl (11.1MB)\n",
      "\u001b[K     |████████████████████████████████| 11.1MB 680kB/s \n",
      "\u001b[?25hInstalling collected packages: gurobipy\n",
      "Successfully installed gurobipy-9.1.1\n"
     ]
    }
   ],
   "source": [
    "pip install -i https://pypi.gurobi.com gurobipy"
   ]
  },
  {
   "cell_type": "code",
   "execution_count": null,
   "metadata": {
    "colab": {
     "base_uri": "https://localhost:8080/"
    },
    "executionInfo": {
     "elapsed": 5553,
     "status": "ok",
     "timestamp": 1611398162402,
     "user": {
      "displayName": "Radha Krishna",
      "photoUrl": "https://lh3.googleusercontent.com/a-/AOh14GiTjbSMlgPspZrbcvWkvQ0e7mQZ6wRltta96EzUNg=s64",
      "userId": "03805395289779420508"
     },
     "user_tz": -330
    },
    "id": "Mo6r5fp6yzWW",
    "outputId": "ecd77863-8fbf-41a4-c140-fddfd81edf20"
   },
   "outputs": [
    {
     "name": "stdout",
     "output_type": "stream",
     "text": [
      "Collecting rsome\n",
      "  Downloading https://files.pythonhosted.org/packages/af/89/89da29b18d1aa5d033fc7d01f8e50b87d18a4ccaf88aa82e4a34d8ddb4bf/rsome-0.0.7-py3-none-any.whl\n",
      "Installing collected packages: rsome\n",
      "Successfully installed rsome-0.0.7\n"
     ]
    }
   ],
   "source": [
    "pip install rsome"
   ]
  },
  {
   "cell_type": "code",
   "execution_count": null,
   "metadata": {
    "colab": {
     "base_uri": "https://localhost:8080/"
    },
    "executionInfo": {
     "elapsed": 1902,
     "status": "ok",
     "timestamp": 1611398174199,
     "user": {
      "displayName": "Radha Krishna",
      "photoUrl": "https://lh3.googleusercontent.com/a-/AOh14GiTjbSMlgPspZrbcvWkvQ0e7mQZ6wRltta96EzUNg=s64",
      "userId": "03805395289779420508"
     },
     "user_tz": -330
    },
    "id": "FBnwWA4KyzWX",
    "outputId": "180f6383-0faf-495f-9943-49a36f5b5c2e"
   },
   "outputs": [
    {
     "name": "stdout",
     "output_type": "stream",
     "text": [
      "Restricted license - for non-production use only - expires 2022-01-13\n",
      "Being solved by Gurobi...\n",
      "Solution status: 2\n",
      "Running time: 0.0008s\n"
     ]
    }
   ],
   "source": [
    "#Example-1_Linear Programming in gurobi\n",
    "\n",
    "#Examples 1:\n",
    "#Maximize objective function 3x+4y \n",
    "#where the constraints are \n",
    "#2.5x+y<=20, \n",
    "#3x+3y<=30,\n",
    "#x+2y<=16,\n",
    "#x<=3,\n",
    "#|y|<=2\n",
    "\n",
    "import pyatom.lp as lp\n",
    "import pyatom.grb_solver as grb\n",
    "\n",
    "model = lp.Model()\n",
    "x = model.dvar()\n",
    "y = model.dvar()\n",
    "\n",
    "model.max(3*x + 4*y)\n",
    "model.st(2.5*x + y <= 20)\n",
    "model.st(3*x + 3*y <= 30)\n",
    "model.st(x + 2*y <= 16)\n",
    "model.st(x <= 3)\n",
    "model.st(abs(y) <= 2)\n",
    "\n",
    "model.solve(grb)"
   ]
  },
  {
   "cell_type": "code",
   "execution_count": null,
   "metadata": {
    "colab": {
     "base_uri": "https://localhost:8080/"
    },
    "executionInfo": {
     "elapsed": 1729,
     "status": "ok",
     "timestamp": 1611398178102,
     "user": {
      "displayName": "Radha Krishna",
      "photoUrl": "https://lh3.googleusercontent.com/a-/AOh14GiTjbSMlgPspZrbcvWkvQ0e7mQZ6wRltta96EzUNg=s64",
      "userId": "03805395289779420508"
     },
     "user_tz": -330
    },
    "id": "emxvQLcXyzWX",
    "outputId": "34081c4a-2468-41f2-cc4a-822695f6eabc"
   },
   "outputs": [
    {
     "name": "stdout",
     "output_type": "stream",
     "text": [
      "17.0\n",
      "[3.]\n",
      "[2.]\n"
     ]
    }
   ],
   "source": [
    "print(model.get())\n",
    "print(x.get())\n",
    "print(y.get())"
   ]
  },
  {
   "cell_type": "code",
   "execution_count": null,
   "metadata": {
    "colab": {
     "base_uri": "https://localhost:8080/"
    },
    "executionInfo": {
     "elapsed": 1538,
     "status": "ok",
     "timestamp": 1611398181132,
     "user": {
      "displayName": "Radha Krishna",
      "photoUrl": "https://lh3.googleusercontent.com/a-/AOh14GiTjbSMlgPspZrbcvWkvQ0e7mQZ6wRltta96EzUNg=s64",
      "userId": "03805395289779420508"
     },
     "user_tz": -330
    },
    "id": "NSOrlE80yzWY",
    "outputId": "97634079-fdb6-4568-d75f-317e4b6bfee4"
   },
   "outputs": [
    {
     "data": {
      "text/plain": [
       "Linear program object:\n",
       "=============================================\n",
       "Number of variables:          3\n",
       "Continuous/binaries/integers: 3/0/0\n",
       "---------------------------------------------\n",
       "Number of linear constraints: 6\n",
       "Inequalities/equalities:      6/0\n",
       "Number of coefficients:       11"
      ]
     },
     "execution_count": 6,
     "metadata": {
      "tags": []
     },
     "output_type": "execute_result"
    }
   ],
   "source": [
    "model.do_math()"
   ]
  },
  {
   "cell_type": "code",
   "execution_count": null,
   "metadata": {
    "colab": {
     "base_uri": "https://localhost:8080/"
    },
    "executionInfo": {
     "elapsed": 2696,
     "status": "ok",
     "timestamp": 1611398184891,
     "user": {
      "displayName": "Radha Krishna",
      "photoUrl": "https://lh3.googleusercontent.com/a-/AOh14GiTjbSMlgPspZrbcvWkvQ0e7mQZ6wRltta96EzUNg=s64",
      "userId": "03805395289779420508"
     },
     "user_tz": -330
    },
    "id": "YRKRWll2yzWZ",
    "outputId": "f06f0d8a-51e3-44df-aa01-3eb7ca31db65"
   },
   "outputs": [
    {
     "name": "stdout",
     "output_type": "stream",
     "text": [
      "Being solved by Gurobi...\n",
      "Solution status: 2\n",
      "Running time: 0.0007s\n"
     ]
    }
   ],
   "source": [
    "#Example-2_Robust Optimization\n",
    "#Example-2:\n",
    "#Maximize objective function 3x+4y \n",
    "#s.t. 2.5x+y<=20, \n",
    "#5x+3y<=30,\n",
    "#x+2y<=16,\n",
    "#|y|<=2,\n",
    "\n",
    "from rsome import ro\n",
    "from rsome import grb_solver as grb\n",
    "\n",
    "model = ro.Model('LP model')\n",
    "x = model.dvar()\n",
    "y = model.dvar()\n",
    "\n",
    "model.max(3*x + 4*y)\n",
    "model.st(2.5*x + y <= 20)\n",
    "model.st(5*x + 3*y <= 30)\n",
    "model.st(x + 2*y <= 16)\n",
    "model.st(abs(y) <= 2)\n",
    "\n",
    "model.solve(grb)"
   ]
  },
  {
   "cell_type": "code",
   "execution_count": null,
   "metadata": {
    "colab": {
     "base_uri": "https://localhost:8080/"
    },
    "executionInfo": {
     "elapsed": 1472,
     "status": "ok",
     "timestamp": 1611398188089,
     "user": {
      "displayName": "Radha Krishna",
      "photoUrl": "https://lh3.googleusercontent.com/a-/AOh14GiTjbSMlgPspZrbcvWkvQ0e7mQZ6wRltta96EzUNg=s64",
      "userId": "03805395289779420508"
     },
     "user_tz": -330
    },
    "id": "FEEk7FxEyzWZ",
    "outputId": "377f775e-5c61-4cd9-a8b9-75cc422a6be0"
   },
   "outputs": [
    {
     "name": "stdout",
     "output_type": "stream",
     "text": [
      "x: [4.8]\n",
      "y: [2.]\n",
      "Objective: 22.4\n"
     ]
    }
   ],
   "source": [
    "print('x:', x.get())\n",
    "print('y:', y.get())\n",
    "print('Objective:', model.get())"
   ]
  },
  {
   "cell_type": "code",
   "execution_count": null,
   "metadata": {
    "colab": {
     "base_uri": "https://localhost:8080/"
    },
    "executionInfo": {
     "elapsed": 1335,
     "status": "ok",
     "timestamp": 1611398190149,
     "user": {
      "displayName": "Radha Krishna",
      "photoUrl": "https://lh3.googleusercontent.com/a-/AOh14GiTjbSMlgPspZrbcvWkvQ0e7mQZ6wRltta96EzUNg=s64",
      "userId": "03805395289779420508"
     },
     "user_tz": -330
    },
    "id": "1fdvO37KyzWa",
    "outputId": "45162ca0-ad91-4116-8f1b-ae8ccf4f1ba9"
   },
   "outputs": [
    {
     "name": "stdout",
     "output_type": "stream",
     "text": [
      "Second order cone program object:\n",
      "=============================================\n",
      "Number of variables:          3\n",
      "Continuous/binaries/integers: 3/0/0\n",
      "---------------------------------------------\n",
      "Number of linear constraints: 6\n",
      "Inequalities/equalities:      6/0\n",
      "Number of coefficients:       11\n",
      "---------------------------------------------\n",
      "Number of SOC constraints:    0\n",
      "\n"
     ]
    }
   ],
   "source": [
    "formula = model.do_math()\n",
    "print(formula)"
   ]
  }
 ],
 "metadata": {
  "colab": {
   "collapsed_sections": [],
   "name": "MP-2 TUTORIAL-1.ipynb",
   "provenance": []
  },
  "kernelspec": {
   "display_name": "Python 3",
   "language": "python",
   "name": "python3"
  },
  "language_info": {
   "codemirror_mode": {
    "name": "ipython",
    "version": 3
   },
   "file_extension": ".py",
   "mimetype": "text/x-python",
   "name": "python",
   "nbconvert_exporter": "python",
   "pygments_lexer": "ipython3",
   "version": "3.9.1"
  }
 },
 "nbformat": 4,
 "nbformat_minor": 1
}
