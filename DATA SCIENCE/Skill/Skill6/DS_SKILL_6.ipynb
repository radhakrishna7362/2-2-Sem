{
  "nbformat": 4,
  "nbformat_minor": 0,
  "metadata": {
    "colab": {
      "name": "DS SKILL-6.ipynb",
      "provenance": [],
      "collapsed_sections": []
    },
    "kernelspec": {
      "name": "python3",
      "display_name": "Python 3"
    }
  },
  "cells": [
    {
      "cell_type": "markdown",
      "metadata": {
        "id": "tLnxVrCeRcFQ"
      },
      "source": [
        "**NAME: NERELLA VENKATA RADHAKRISHNA**\r\n",
        "\r\n",
        "**ID: 190031187**\r\n",
        "\r\n",
        "**SKILL: 6**"
      ]
    },
    {
      "cell_type": "code",
      "metadata": {
        "id": "_7ULzYRjOBGy"
      },
      "source": [
        "import math\r\n",
        "import numpy as np\r\n",
        "import pandas as pd\r\n",
        "from matplotlib import pyplot\r\n",
        "from scipy import stats\r\n"
      ],
      "execution_count": null,
      "outputs": []
    },
    {
      "cell_type": "code",
      "metadata": {
        "id": "d1jS93XPRtEB"
      },
      "source": [
        "matches = pd.read_csv('matches.csv')\r\n",
        "deliveries = pd.read_csv('deliveries.csv')"
      ],
      "execution_count": null,
      "outputs": []
    },
    {
      "cell_type": "code",
      "metadata": {
        "colab": {
          "base_uri": "https://localhost:8080/"
        },
        "id": "US3TRoMrR_30",
        "outputId": "a6a96fa9-7b64-4625-fe6b-33f416166226"
      },
      "source": [
        "win_by_runs_data = matches[matches.win_by_runs>0].win_by_runs\r\n",
        "win_by_runs_mean,win_by_runs_std=win_by_runs_data.mean(),win_by_runs_data.std()\r\n",
        "z_score_35 = (35-win_by_runs_mean)/win_by_runs_std\r\n",
        "print(f\"z-score of 35 is {z_score_35:.2f}\")"
      ],
      "execution_count": null,
      "outputs": [
        {
          "output_type": "stream",
          "text": [
            "z-score of 35 is 0.17\n"
          ],
          "name": "stdout"
        }
      ]
    },
    {
      "cell_type": "code",
      "metadata": {
        "colab": {
          "base_uri": "https://localhost:8080/"
        },
        "id": "0ccXs-UDUvpy",
        "outputId": "ee41d14b-197f-4e59-ec0e-1928bfb846d7"
      },
      "source": [
        "z_score=stats.norm.cdf(0.19)\r\n",
        "print(f'z-score of 0.19= {z_score * 100:.2f} percentile')"
      ],
      "execution_count": null,
      "outputs": [
        {
          "output_type": "stream",
          "text": [
            "z-score of 0.19= 57.53 percentile\n"
          ],
          "name": "stdout"
        }
      ]
    },
    {
      "cell_type": "code",
      "metadata": {
        "colab": {
          "base_uri": "https://localhost:8080/",
          "height": 265
        },
        "id": "LPkjZRPWViCt",
        "outputId": "b64f88e8-f50c-4006-a097-72ab7a96f678"
      },
      "source": [
        "def compute_binomial_probability(x,n,p):\r\n",
        "  \"\"\"\r\n",
        "  Returns Probability of getting 'x' success outcomes in 'n' trials.\r\n",
        "  probability of getting success being 'p'\r\n",
        "  \"\"\"\r\n",
        "  outcomes = math.factorial(n) / (math.factorial(x) * math.factorial(n-x))\r\n",
        "  probability_of_each_outcome = (p ** x) * ((1-p) ** (n-x))\r\n",
        "  return outcomes * probability_of_each_outcome\r\n",
        "\r\n",
        "def plot_binomial_distribution_graph(n,p):\r\n",
        "  \"\"\"\r\n",
        "  plots binomial distribution graph of an event with 'n' trials,\r\n",
        "  probability of getting success of the event being 'p' for values '0' to 'n'\r\n",
        "  \"\"\"\r\n",
        "  probablities = list(map(lambda x:compute_binomial_probability(x,n,p),range(0,n+1)))\r\n",
        "  pyplot.bar(list(range(0,n+1)),probablities)\r\n",
        "\r\n",
        "plot_binomial_distribution_graph(5,0.5)"
      ],
      "execution_count": null,
      "outputs": [
        {
          "output_type": "display_data",
          "data": {
            "image/png": "[encoded data removed]",
            "text/plain": [
              "<Figure size 432x288 with 1 Axes>"
            ]
          },
          "metadata": {
            "tags": [],
            "needs_background": "light"
          }
        }
      ]
    },
    {
      "cell_type": "code",
      "metadata": {
        "colab": {
          "base_uri": "https://localhost:8080/",
          "height": 265
        },
        "id": "m0t4pQ0_W9DM",
        "outputId": "3f818f47-aacc-4097-fcbb-bf03bfb046ca"
      },
      "source": [
        "plot_binomial_distribution_graph(10,0.5)"
      ],
      "execution_count": null,
      "outputs": [
        {
          "output_type": "display_data",
          "data": {
            "image/png": "[encoded data removed]",
            "text/plain": [
              "<Figure size 432x288 with 1 Axes>"
            ]
          },
          "metadata": {
            "tags": [],
            "needs_background": "light"
          }
        }
      ]
    },
    {
      "cell_type": "code",
      "metadata": {
        "colab": {
          "base_uri": "https://localhost:8080/",
          "height": 265
        },
        "id": "t556mX_cWVXK",
        "outputId": "bfa2581e-27d9-42d1-fff9-547fe44cfcf0"
      },
      "source": [
        "plot_binomial_distribution_graph(10,0.7)"
      ],
      "execution_count": null,
      "outputs": [
        {
          "output_type": "display_data",
          "data": {
            "image/png": "[encoded data removed]",
            "text/plain": [
              "<Figure size 432x288 with 1 Axes>"
            ]
          },
          "metadata": {
            "tags": [],
            "needs_background": "light"
          }
        }
      ]
    },
    {
      "cell_type": "code",
      "metadata": {
        "id": "9jHW8aI_XUI9",
        "colab": {
          "base_uri": "https://localhost:8080/",
          "height": 282
        },
        "outputId": "013de036-5edb-4e40-86fc-e800c7937c1d"
      },
      "source": [
        "pyplot.bar([\"0\",\"1\"],[0.35,0.65])"
      ],
      "execution_count": null,
      "outputs": [
        {
          "output_type": "execute_result",
          "data": {
            "text/plain": [
              "<BarContainer object of 2 artists>"
            ]
          },
          "metadata": {
            "tags": []
          },
          "execution_count": 15
        },
        {
          "output_type": "display_data",
          "data": {
            "image/png": "[encoded data removed]",
            "text/plain": [
              "<Figure size 432x288 with 1 Axes>"
            ]
          },
          "metadata": {
            "tags": [],
            "needs_background": "light"
          }
        }
      ]
    }
  ]
}