{
 "cells": [
  {
   "cell_type": "markdown",
   "metadata": {
    "id": "7rM9LfTFRfb_"
   },
   "source": [
    "**NAME: NERELLA VENKATA RADHAKRISHNA**\n",
    "\n",
    "**ID: 190031187**\n",
    "\n",
    "**SKILL-1**"
   ]
  },
  {
   "cell_type": "code",
   "execution_count": 1,
   "metadata": {
    "id": "-kRg3k6_emo5"
   },
   "outputs": [],
   "source": [
    "import pandas as pd\n",
    "import numpy as np"
   ]
  },
  {
   "cell_type": "code",
   "execution_count": 2,
   "metadata": {
    "colab": {
     "base_uri": "https://localhost:8080/"
    },
    "executionInfo": {
     "elapsed": 1083,
     "status": "ok",
     "timestamp": 1609396137560,
     "user": {
      "displayName": "Radha Krishna",
      "photoUrl": "https://lh3.googleusercontent.com/a-/AOh14GiTjbSMlgPspZrbcvWkvQ0e7mQZ6wRltta96EzUNg=s64",
      "userId": "03805395289779420508"
     },
     "user_tz": -330
    },
    "id": "yprTK4whexe2",
    "outputId": "1c0c112f-073e-4593-e427-000f4d782eb8"
   },
   "outputs": [
    {
     "name": "stdout",
     "output_type": "stream",
     "text": [
      "0    a\n",
      "1    b\n",
      "2    c\n",
      "3    d\n",
      "dtype: object\n"
     ]
    }
   ],
   "source": [
    "#1. Use series method to convert the following list [‘a’,’b’,’c’,’d’]\n",
    "\n",
    "list=['a','b','c','d']\n",
    "series=pd.Series(list)\n",
    "print(series)"
   ]
  },
  {
   "cell_type": "code",
   "execution_count": 3,
   "metadata": {
    "id": "LqUXMHXAfIh_"
   },
   "outputs": [],
   "source": [
    "d=['radha','krishna','kowshik','sudheer','chandu','ashok']\n",
    "m=[[67,89,68,95], [87,94,97,76], [77,85,99,74], [90,89,92,78], [83,97,80,98],[90,90,80,87]]\n",
    "s=['DS','AI','MPII','CNS']"
   ]
  },
  {
   "cell_type": "code",
   "execution_count": 14,
   "metadata": {
    "id": "NyFza8vLfgnp"
   },
   "outputs": [
    {
     "data": {
      "text/html": [
       "<div>\n",
       "<style scoped>\n",
       "    .dataframe tbody tr th:only-of-type {\n",
       "        vertical-align: middle;\n",
       "    }\n",
       "\n",
       "    .dataframe tbody tr th {\n",
       "        vertical-align: top;\n",
       "    }\n",
       "\n",
       "    .dataframe thead th {\n",
       "        text-align: right;\n",
       "    }\n",
       "</style>\n",
       "<table border=\"1\" class=\"dataframe\">\n",
       "  <thead>\n",
       "    <tr style=\"text-align: right;\">\n",
       "      <th></th>\n",
       "      <th>DS</th>\n",
       "      <th>AI</th>\n",
       "      <th>MPII</th>\n",
       "      <th>CNS</th>\n",
       "    </tr>\n",
       "  </thead>\n",
       "  <tbody>\n",
       "    <tr>\n",
       "      <th>radha</th>\n",
       "      <td>67</td>\n",
       "      <td>89</td>\n",
       "      <td>68</td>\n",
       "      <td>95</td>\n",
       "    </tr>\n",
       "    <tr>\n",
       "      <th>krishna</th>\n",
       "      <td>87</td>\n",
       "      <td>94</td>\n",
       "      <td>97</td>\n",
       "      <td>76</td>\n",
       "    </tr>\n",
       "    <tr>\n",
       "      <th>kowshik</th>\n",
       "      <td>77</td>\n",
       "      <td>85</td>\n",
       "      <td>99</td>\n",
       "      <td>74</td>\n",
       "    </tr>\n",
       "    <tr>\n",
       "      <th>sudheer</th>\n",
       "      <td>90</td>\n",
       "      <td>89</td>\n",
       "      <td>92</td>\n",
       "      <td>78</td>\n",
       "    </tr>\n",
       "    <tr>\n",
       "      <th>chandu</th>\n",
       "      <td>83</td>\n",
       "      <td>97</td>\n",
       "      <td>80</td>\n",
       "      <td>98</td>\n",
       "    </tr>\n",
       "    <tr>\n",
       "      <th>ashok</th>\n",
       "      <td>90</td>\n",
       "      <td>90</td>\n",
       "      <td>80</td>\n",
       "      <td>87</td>\n",
       "    </tr>\n",
       "  </tbody>\n",
       "</table>\n",
       "</div>"
      ],
      "text/plain": [
       "         DS  AI  MPII  CNS\n",
       "radha    67  89    68   95\n",
       "krishna  87  94    97   76\n",
       "kowshik  77  85    99   74\n",
       "sudheer  90  89    92   78\n",
       "chandu   83  97    80   98\n",
       "ashok    90  90    80   87"
      ]
     },
     "execution_count": 14,
     "metadata": {},
     "output_type": "execute_result"
    }
   ],
   "source": [
    "#2. Create data frames which club them all using pandas\n",
    "df=pd.DataFrame(data=m,index=d,columns=s)\n",
    "df"
   ]
  },
  {
   "cell_type": "code",
   "execution_count": 15,
   "metadata": {
    "id": "CQWH9m4QgDjk"
   },
   "outputs": [
    {
     "data": {
      "text/html": [
       "<div>\n",
       "<style scoped>\n",
       "    .dataframe tbody tr th:only-of-type {\n",
       "        vertical-align: middle;\n",
       "    }\n",
       "\n",
       "    .dataframe tbody tr th {\n",
       "        vertical-align: top;\n",
       "    }\n",
       "\n",
       "    .dataframe thead th {\n",
       "        text-align: right;\n",
       "    }\n",
       "</style>\n",
       "<table border=\"1\" class=\"dataframe\">\n",
       "  <thead>\n",
       "    <tr style=\"text-align: right;\">\n",
       "      <th></th>\n",
       "      <th>DS</th>\n",
       "      <th>AI</th>\n",
       "      <th>MPII</th>\n",
       "      <th>CNS</th>\n",
       "      <th>TS</th>\n",
       "      <th>TOTAL</th>\n",
       "    </tr>\n",
       "  </thead>\n",
       "  <tbody>\n",
       "    <tr>\n",
       "      <th>radha</th>\n",
       "      <td>67</td>\n",
       "      <td>89</td>\n",
       "      <td>68</td>\n",
       "      <td>95</td>\n",
       "      <td>224</td>\n",
       "      <td>543</td>\n",
       "    </tr>\n",
       "    <tr>\n",
       "      <th>krishna</th>\n",
       "      <td>87</td>\n",
       "      <td>94</td>\n",
       "      <td>97</td>\n",
       "      <td>76</td>\n",
       "      <td>278</td>\n",
       "      <td>632</td>\n",
       "    </tr>\n",
       "    <tr>\n",
       "      <th>kowshik</th>\n",
       "      <td>77</td>\n",
       "      <td>85</td>\n",
       "      <td>99</td>\n",
       "      <td>74</td>\n",
       "      <td>261</td>\n",
       "      <td>596</td>\n",
       "    </tr>\n",
       "    <tr>\n",
       "      <th>sudheer</th>\n",
       "      <td>90</td>\n",
       "      <td>89</td>\n",
       "      <td>92</td>\n",
       "      <td>78</td>\n",
       "      <td>271</td>\n",
       "      <td>620</td>\n",
       "    </tr>\n",
       "    <tr>\n",
       "      <th>chandu</th>\n",
       "      <td>83</td>\n",
       "      <td>97</td>\n",
       "      <td>80</td>\n",
       "      <td>98</td>\n",
       "      <td>260</td>\n",
       "      <td>618</td>\n",
       "    </tr>\n",
       "    <tr>\n",
       "      <th>ashok</th>\n",
       "      <td>90</td>\n",
       "      <td>90</td>\n",
       "      <td>80</td>\n",
       "      <td>87</td>\n",
       "      <td>260</td>\n",
       "      <td>607</td>\n",
       "    </tr>\n",
       "  </tbody>\n",
       "</table>\n",
       "</div>"
      ],
      "text/plain": [
       "         DS  AI  MPII  CNS   TS  TOTAL\n",
       "radha    67  89    68   95  224    543\n",
       "krishna  87  94    97   76  278    632\n",
       "kowshik  77  85    99   74  261    596\n",
       "sudheer  90  89    92   78  271    620\n",
       "chandu   83  97    80   98  260    618\n",
       "ashok    90  90    80   87  260    607"
      ]
     },
     "execution_count": 15,
     "metadata": {},
     "output_type": "execute_result"
    }
   ],
   "source": [
    "#3. Add the TS , total columns to the data frame from which TS is the sum of  DS,AI,MPII and total is the sum of all subjects \n",
    "df['TS']=df['DS']+df['AI']+df['MPII']\n",
    "df['TOTAL']=df['DS']+df['AI']+df['MPII']+df['CNS']+df['TS']\n",
    "df"
   ]
  },
  {
   "cell_type": "code",
   "execution_count": 8,
   "metadata": {
    "colab": {
     "base_uri": "https://localhost:8080/",
     "height": 109
    },
    "executionInfo": {
     "elapsed": 1176,
     "status": "ok",
     "timestamp": 1609396550965,
     "user": {
      "displayName": "Radha Krishna",
      "photoUrl": "https://lh3.googleusercontent.com/a-/AOh14GiTjbSMlgPspZrbcvWkvQ0e7mQZ6wRltta96EzUNg=s64",
      "userId": "03805395289779420508"
     },
     "user_tz": -330
    },
    "id": "Vla3Cy25geRl",
    "outputId": "f4670c01-2661-460b-c71a-4d62981fef69"
   },
   "outputs": [
    {
     "data": {
      "text/html": [
       "<div>\n",
       "<style scoped>\n",
       "    .dataframe tbody tr th:only-of-type {\n",
       "        vertical-align: middle;\n",
       "    }\n",
       "\n",
       "    .dataframe tbody tr th {\n",
       "        vertical-align: top;\n",
       "    }\n",
       "\n",
       "    .dataframe thead th {\n",
       "        text-align: right;\n",
       "    }\n",
       "</style>\n",
       "<table border=\"1\" class=\"dataframe\">\n",
       "  <thead>\n",
       "    <tr style=\"text-align: right;\">\n",
       "      <th></th>\n",
       "      <th>DS</th>\n",
       "      <th>AI</th>\n",
       "      <th>MPII</th>\n",
       "      <th>CNS</th>\n",
       "      <th>TS</th>\n",
       "      <th>TOTAL</th>\n",
       "    </tr>\n",
       "  </thead>\n",
       "  <tbody>\n",
       "    <tr>\n",
       "      <th>krishna</th>\n",
       "      <td>87</td>\n",
       "      <td>94</td>\n",
       "      <td>97</td>\n",
       "      <td>76</td>\n",
       "      <td>278</td>\n",
       "      <td>632</td>\n",
       "    </tr>\n",
       "    <tr>\n",
       "      <th>kowshik</th>\n",
       "      <td>77</td>\n",
       "      <td>85</td>\n",
       "      <td>99</td>\n",
       "      <td>74</td>\n",
       "      <td>261</td>\n",
       "      <td>596</td>\n",
       "    </tr>\n",
       "  </tbody>\n",
       "</table>\n",
       "</div>"
      ],
      "text/plain": [
       "         DS  AI  MPII  CNS   TS  TOTAL\n",
       "krishna  87  94    97   76  278    632\n",
       "kowshik  77  85    99   74  261    596"
      ]
     },
     "execution_count": 8,
     "metadata": {},
     "output_type": "execute_result"
    }
   ],
   "source": [
    "#4. Display only the marks scored by Name 2 and Name3\n",
    "df.loc[['krishna','kowshik']]"
   ]
  },
  {
   "cell_type": "code",
   "execution_count": 9,
   "metadata": {
    "colab": {
     "base_uri": "https://localhost:8080/",
     "height": 48
    },
    "executionInfo": {
     "elapsed": 1328,
     "status": "ok",
     "timestamp": 1609396578184,
     "user": {
      "displayName": "Radha Krishna",
      "photoUrl": "https://lh3.googleusercontent.com/a-/AOh14GiTjbSMlgPspZrbcvWkvQ0e7mQZ6wRltta96EzUNg=s64",
      "userId": "03805395289779420508"
     },
     "user_tz": -330
    },
    "id": "klPDm7bTgiH8",
    "outputId": "9753ea9e-9ab1-4bff-e113-92261fa93276"
   },
   "outputs": [
    {
     "data": {
      "text/html": [
       "<div>\n",
       "<style scoped>\n",
       "    .dataframe tbody tr th:only-of-type {\n",
       "        vertical-align: middle;\n",
       "    }\n",
       "\n",
       "    .dataframe tbody tr th {\n",
       "        vertical-align: top;\n",
       "    }\n",
       "\n",
       "    .dataframe thead th {\n",
       "        text-align: right;\n",
       "    }\n",
       "</style>\n",
       "<table border=\"1\" class=\"dataframe\">\n",
       "  <thead>\n",
       "    <tr style=\"text-align: right;\">\n",
       "      <th></th>\n",
       "      <th>DS</th>\n",
       "      <th>AI</th>\n",
       "      <th>MPII</th>\n",
       "      <th>CNS</th>\n",
       "      <th>TS</th>\n",
       "      <th>TOTAL</th>\n",
       "    </tr>\n",
       "  </thead>\n",
       "  <tbody>\n",
       "  </tbody>\n",
       "</table>\n",
       "</div>"
      ],
      "text/plain": [
       "Empty DataFrame\n",
       "Columns: [DS, AI, MPII, CNS, TS, TOTAL]\n",
       "Index: []"
      ]
     },
     "execution_count": 9,
     "metadata": {},
     "output_type": "execute_result"
    }
   ],
   "source": [
    "#5. Display all the students marks who scored 90 + marks in DS\n",
    "df[df['DS']>90]"
   ]
  },
  {
   "cell_type": "code",
   "execution_count": 10,
   "metadata": {
    "colab": {
     "base_uri": "https://localhost:8080/"
    },
    "executionInfo": {
     "elapsed": 1227,
     "status": "ok",
     "timestamp": 1609396666311,
     "user": {
      "displayName": "Radha Krishna",
      "photoUrl": "https://lh3.googleusercontent.com/a-/AOh14GiTjbSMlgPspZrbcvWkvQ0e7mQZ6wRltta96EzUNg=s64",
      "userId": "03805395289779420508"
     },
     "user_tz": -330
    },
    "id": "JiFhdbL3g1d7",
    "outputId": "337711fa-0edc-4bc7-8afd-a067839232f1"
   },
   "outputs": [
    {
     "data": {
      "text/plain": [
       "494"
      ]
     },
     "execution_count": 10,
     "metadata": {},
     "output_type": "execute_result"
    }
   ],
   "source": [
    "#6. DS teacher wants to know the total marks achieved by students in DS , Help her by using the sum method in data frame\n",
    "sum(df['DS'])"
   ]
  },
  {
   "cell_type": "code",
   "execution_count": 16,
   "metadata": {
    "id": "sI6GGd16hEjQ"
   },
   "outputs": [
    {
     "data": {
      "text/html": [
       "<div>\n",
       "<style scoped>\n",
       "    .dataframe tbody tr th:only-of-type {\n",
       "        vertical-align: middle;\n",
       "    }\n",
       "\n",
       "    .dataframe tbody tr th {\n",
       "        vertical-align: top;\n",
       "    }\n",
       "\n",
       "    .dataframe thead th {\n",
       "        text-align: right;\n",
       "    }\n",
       "</style>\n",
       "<table border=\"1\" class=\"dataframe\">\n",
       "  <thead>\n",
       "    <tr style=\"text-align: right;\">\n",
       "      <th></th>\n",
       "      <th>flow rate(lit/min;/ /</th>\n",
       "      <th>speed</th>\n",
       "      <th>capacity</th>\n",
       "      <th>voltage</th>\n",
       "      <th>current</th>\n",
       "      <th>temprature</th>\n",
       "      <th>capacity in watt</th>\n",
       "      <th>performance</th>\n",
       "    </tr>\n",
       "  </thead>\n",
       "  <tbody>\n",
       "    <tr>\n",
       "      <th>0</th>\n",
       "      <td>40</td>\n",
       "      <td>1400</td>\n",
       "      <td>0.5</td>\n",
       "      <td>120</td>\n",
       "      <td>3.104167</td>\n",
       "      <td>10</td>\n",
       "      <td>372.5</td>\n",
       "      <td>0</td>\n",
       "    </tr>\n",
       "    <tr>\n",
       "      <th>1</th>\n",
       "      <td>80</td>\n",
       "      <td>2800</td>\n",
       "      <td>1.0</td>\n",
       "      <td>240</td>\n",
       "      <td>3.104167</td>\n",
       "      <td>20</td>\n",
       "      <td>745.0</td>\n",
       "      <td>0</td>\n",
       "    </tr>\n",
       "    <tr>\n",
       "      <th>2</th>\n",
       "      <td>40</td>\n",
       "      <td>1400</td>\n",
       "      <td>0.5</td>\n",
       "      <td>120</td>\n",
       "      <td>3.104167</td>\n",
       "      <td>10</td>\n",
       "      <td>372.5</td>\n",
       "      <td>0</td>\n",
       "    </tr>\n",
       "    <tr>\n",
       "      <th>3</th>\n",
       "      <td>160</td>\n",
       "      <td>5600</td>\n",
       "      <td>2.0</td>\n",
       "      <td>480</td>\n",
       "      <td>3.104167</td>\n",
       "      <td>40</td>\n",
       "      <td>1490.0</td>\n",
       "      <td>1</td>\n",
       "    </tr>\n",
       "    <tr>\n",
       "      <th>4</th>\n",
       "      <td>40</td>\n",
       "      <td>1400</td>\n",
       "      <td>0.5</td>\n",
       "      <td>120</td>\n",
       "      <td>3.104167</td>\n",
       "      <td>10</td>\n",
       "      <td>372.5</td>\n",
       "      <td>0</td>\n",
       "    </tr>\n",
       "    <tr>\n",
       "      <th>...</th>\n",
       "      <td>...</td>\n",
       "      <td>...</td>\n",
       "      <td>...</td>\n",
       "      <td>...</td>\n",
       "      <td>...</td>\n",
       "      <td>...</td>\n",
       "      <td>...</td>\n",
       "      <td>...</td>\n",
       "    </tr>\n",
       "    <tr>\n",
       "      <th>194</th>\n",
       "      <td>80</td>\n",
       "      <td>2800</td>\n",
       "      <td>1.0</td>\n",
       "      <td>240</td>\n",
       "      <td>3.104167</td>\n",
       "      <td>20</td>\n",
       "      <td>745.0</td>\n",
       "      <td>0</td>\n",
       "    </tr>\n",
       "    <tr>\n",
       "      <th>195</th>\n",
       "      <td>40</td>\n",
       "      <td>1400</td>\n",
       "      <td>0.5</td>\n",
       "      <td>120</td>\n",
       "      <td>3.104167</td>\n",
       "      <td>10</td>\n",
       "      <td>372.5</td>\n",
       "      <td>0</td>\n",
       "    </tr>\n",
       "    <tr>\n",
       "      <th>196</th>\n",
       "      <td>80</td>\n",
       "      <td>2800</td>\n",
       "      <td>1.0</td>\n",
       "      <td>240</td>\n",
       "      <td>3.104167</td>\n",
       "      <td>20</td>\n",
       "      <td>745.0</td>\n",
       "      <td>0</td>\n",
       "    </tr>\n",
       "    <tr>\n",
       "      <th>197</th>\n",
       "      <td>160</td>\n",
       "      <td>5600</td>\n",
       "      <td>2.0</td>\n",
       "      <td>480</td>\n",
       "      <td>3.104167</td>\n",
       "      <td>40</td>\n",
       "      <td>1490.0</td>\n",
       "      <td>1</td>\n",
       "    </tr>\n",
       "    <tr>\n",
       "      <th>198</th>\n",
       "      <td>80</td>\n",
       "      <td>2800</td>\n",
       "      <td>1.0</td>\n",
       "      <td>240</td>\n",
       "      <td>3.104167</td>\n",
       "      <td>20</td>\n",
       "      <td>745.0</td>\n",
       "      <td>0</td>\n",
       "    </tr>\n",
       "  </tbody>\n",
       "</table>\n",
       "<p>199 rows × 8 columns</p>\n",
       "</div>"
      ],
      "text/plain": [
       "     flow rate(lit/min;/ /  speed  capacity  voltage   current  temprature  \\\n",
       "0                       40   1400       0.5      120  3.104167          10   \n",
       "1                       80   2800       1.0      240  3.104167          20   \n",
       "2                       40   1400       0.5      120  3.104167          10   \n",
       "3                      160   5600       2.0      480  3.104167          40   \n",
       "4                       40   1400       0.5      120  3.104167          10   \n",
       "..                     ...    ...       ...      ...       ...         ...   \n",
       "194                     80   2800       1.0      240  3.104167          20   \n",
       "195                     40   1400       0.5      120  3.104167          10   \n",
       "196                     80   2800       1.0      240  3.104167          20   \n",
       "197                    160   5600       2.0      480  3.104167          40   \n",
       "198                     80   2800       1.0      240  3.104167          20   \n",
       "\n",
       "     capacity in watt  performance  \n",
       "0               372.5            0  \n",
       "1               745.0            0  \n",
       "2               372.5            0  \n",
       "3              1490.0            1  \n",
       "4               372.5            0  \n",
       "..                ...          ...  \n",
       "194             745.0            0  \n",
       "195             372.5            0  \n",
       "196             745.0            0  \n",
       "197            1490.0            1  \n",
       "198             745.0            0  \n",
       "\n",
       "[199 rows x 8 columns]"
      ]
     },
     "execution_count": 16,
     "metadata": {},
     "output_type": "execute_result"
    }
   ],
   "source": [
    "#B)\tInclude .csv file in python\n",
    "dataset=pd.read_csv('MOTORS.csv')\n",
    "dataset"
   ]
  }
 ],
 "metadata": {
  "colab": {
   "authorship_tag": "ABX9TyPh27iBfmvk6EKEhECTF57t",
   "collapsed_sections": [],
   "name": "DS SKILL-1 LMS.ipynb",
   "provenance": []
  },
  "kernelspec": {
   "display_name": "Python 3",
   "language": "python",
   "name": "python3"
  },
  "language_info": {
   "codemirror_mode": {
    "name": "ipython",
    "version": 3
   },
   "file_extension": ".py",
   "mimetype": "text/x-python",
   "name": "python",
   "nbconvert_exporter": "python",
   "pygments_lexer": "ipython3",
   "version": "3.9.1"
  }
 },
 "nbformat": 4,
 "nbformat_minor": 1
}
