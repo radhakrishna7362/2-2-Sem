{
 "cells": [
  {
   "cell_type": "code",
   "execution_count": null,
   "metadata": {
    "id": "y0JkCi3LQ-7Q"
   },
   "outputs": [],
   "source": [
    "Name = NERELLA VENKATA RADHAKRISHNA\r\n",
    "Id = 190031187\r\n",
    "Skill = 2\r\n",
    "Course = DS\r\n",
    "Section = 10"
   ]
  },
  {
   "cell_type": "code",
   "execution_count": null,
   "metadata": {
    "id": "EBGvDnpJ9WA3"
   },
   "outputs": [],
   "source": [
    "import pandas as pd\r\n",
    "import numpy as np\r\n",
    "from scipy import stats"
   ]
  },
  {
   "cell_type": "code",
   "execution_count": null,
   "metadata": {
    "colab": {
     "base_uri": "https://localhost:8080/",
     "height": 651
    },
    "executionInfo": {
     "elapsed": 1638,
     "status": "ok",
     "timestamp": 1611051023598,
     "user": {
      "displayName": "Radha Krishna",
      "photoUrl": "https://lh3.googleusercontent.com/a-/AOh14GiTjbSMlgPspZrbcvWkvQ0e7mQZ6wRltta96EzUNg=s64",
      "userId": "03805395289779420508"
     },
     "user_tz": -330
    },
    "id": "_xJhZqST9cmI",
    "outputId": "daecdf99-1969-4f1e-82c0-875bf2a32a2b"
   },
   "outputs": [
    {
     "data": {
      "text/html": [
       "<div>\n",
       "<style scoped>\n",
       "    .dataframe tbody tr th:only-of-type {\n",
       "        vertical-align: middle;\n",
       "    }\n",
       "\n",
       "    .dataframe tbody tr th {\n",
       "        vertical-align: top;\n",
       "    }\n",
       "\n",
       "    .dataframe thead th {\n",
       "        text-align: right;\n",
       "    }\n",
       "</style>\n",
       "<table border=\"1\" class=\"dataframe\">\n",
       "  <thead>\n",
       "    <tr style=\"text-align: right;\">\n",
       "      <th></th>\n",
       "      <th>Invoice ID</th>\n",
       "      <th>Branch</th>\n",
       "      <th>City</th>\n",
       "      <th>Customer type</th>\n",
       "      <th>Gender</th>\n",
       "      <th>Product line</th>\n",
       "      <th>Unit price</th>\n",
       "      <th>Quantity</th>\n",
       "      <th>Tax 5%</th>\n",
       "      <th>Total</th>\n",
       "      <th>Date</th>\n",
       "      <th>Time</th>\n",
       "      <th>Payment</th>\n",
       "      <th>cogs</th>\n",
       "      <th>gross margin percentage</th>\n",
       "      <th>gross income</th>\n",
       "      <th>Rating</th>\n",
       "    </tr>\n",
       "  </thead>\n",
       "  <tbody>\n",
       "    <tr>\n",
       "      <th>0</th>\n",
       "      <td>750-67-8428</td>\n",
       "      <td>A</td>\n",
       "      <td>Yangon</td>\n",
       "      <td>Member</td>\n",
       "      <td>Female</td>\n",
       "      <td>Health and beauty</td>\n",
       "      <td>74.69</td>\n",
       "      <td>7</td>\n",
       "      <td>26.1415</td>\n",
       "      <td>548.9715</td>\n",
       "      <td>1/5/2019</td>\n",
       "      <td>13:08</td>\n",
       "      <td>Ewallet</td>\n",
       "      <td>522.83</td>\n",
       "      <td>4.761905</td>\n",
       "      <td>26.1415</td>\n",
       "      <td>9.1</td>\n",
       "    </tr>\n",
       "    <tr>\n",
       "      <th>1</th>\n",
       "      <td>226-31-3081</td>\n",
       "      <td>C</td>\n",
       "      <td>Naypyitaw</td>\n",
       "      <td>Normal</td>\n",
       "      <td>Female</td>\n",
       "      <td>Electronic accessories</td>\n",
       "      <td>15.28</td>\n",
       "      <td>5</td>\n",
       "      <td>3.8200</td>\n",
       "      <td>80.2200</td>\n",
       "      <td>3/8/2019</td>\n",
       "      <td>10:29</td>\n",
       "      <td>Cash</td>\n",
       "      <td>76.40</td>\n",
       "      <td>4.761905</td>\n",
       "      <td>3.8200</td>\n",
       "      <td>9.6</td>\n",
       "    </tr>\n",
       "    <tr>\n",
       "      <th>2</th>\n",
       "      <td>631-41-3108</td>\n",
       "      <td>A</td>\n",
       "      <td>Yangon</td>\n",
       "      <td>Normal</td>\n",
       "      <td>Male</td>\n",
       "      <td>Home and lifestyle</td>\n",
       "      <td>46.33</td>\n",
       "      <td>7</td>\n",
       "      <td>16.2155</td>\n",
       "      <td>340.5255</td>\n",
       "      <td>3/3/2019</td>\n",
       "      <td>13:23</td>\n",
       "      <td>Credit card</td>\n",
       "      <td>324.31</td>\n",
       "      <td>4.761905</td>\n",
       "      <td>16.2155</td>\n",
       "      <td>7.4</td>\n",
       "    </tr>\n",
       "    <tr>\n",
       "      <th>3</th>\n",
       "      <td>123-19-1176</td>\n",
       "      <td>A</td>\n",
       "      <td>Yangon</td>\n",
       "      <td>Member</td>\n",
       "      <td>Male</td>\n",
       "      <td>Health and beauty</td>\n",
       "      <td>58.22</td>\n",
       "      <td>8</td>\n",
       "      <td>23.2880</td>\n",
       "      <td>489.0480</td>\n",
       "      <td>1/27/2019</td>\n",
       "      <td>20:33</td>\n",
       "      <td>Ewallet</td>\n",
       "      <td>465.76</td>\n",
       "      <td>4.761905</td>\n",
       "      <td>23.2880</td>\n",
       "      <td>8.4</td>\n",
       "    </tr>\n",
       "    <tr>\n",
       "      <th>4</th>\n",
       "      <td>373-73-7910</td>\n",
       "      <td>A</td>\n",
       "      <td>Yangon</td>\n",
       "      <td>Normal</td>\n",
       "      <td>Male</td>\n",
       "      <td>Sports and travel</td>\n",
       "      <td>86.31</td>\n",
       "      <td>7</td>\n",
       "      <td>30.2085</td>\n",
       "      <td>634.3785</td>\n",
       "      <td>2/8/2019</td>\n",
       "      <td>10:37</td>\n",
       "      <td>Ewallet</td>\n",
       "      <td>604.17</td>\n",
       "      <td>4.761905</td>\n",
       "      <td>30.2085</td>\n",
       "      <td>5.3</td>\n",
       "    </tr>\n",
       "    <tr>\n",
       "      <th>...</th>\n",
       "      <td>...</td>\n",
       "      <td>...</td>\n",
       "      <td>...</td>\n",
       "      <td>...</td>\n",
       "      <td>...</td>\n",
       "      <td>...</td>\n",
       "      <td>...</td>\n",
       "      <td>...</td>\n",
       "      <td>...</td>\n",
       "      <td>...</td>\n",
       "      <td>...</td>\n",
       "      <td>...</td>\n",
       "      <td>...</td>\n",
       "      <td>...</td>\n",
       "      <td>...</td>\n",
       "      <td>...</td>\n",
       "      <td>...</td>\n",
       "    </tr>\n",
       "    <tr>\n",
       "      <th>995</th>\n",
       "      <td>233-67-5758</td>\n",
       "      <td>C</td>\n",
       "      <td>Naypyitaw</td>\n",
       "      <td>Normal</td>\n",
       "      <td>Male</td>\n",
       "      <td>Health and beauty</td>\n",
       "      <td>40.35</td>\n",
       "      <td>1</td>\n",
       "      <td>2.0175</td>\n",
       "      <td>42.3675</td>\n",
       "      <td>1/29/2019</td>\n",
       "      <td>13:46</td>\n",
       "      <td>Ewallet</td>\n",
       "      <td>40.35</td>\n",
       "      <td>4.761905</td>\n",
       "      <td>2.0175</td>\n",
       "      <td>6.2</td>\n",
       "    </tr>\n",
       "    <tr>\n",
       "      <th>996</th>\n",
       "      <td>303-96-2227</td>\n",
       "      <td>B</td>\n",
       "      <td>Mandalay</td>\n",
       "      <td>Normal</td>\n",
       "      <td>Female</td>\n",
       "      <td>Home and lifestyle</td>\n",
       "      <td>97.38</td>\n",
       "      <td>10</td>\n",
       "      <td>48.6900</td>\n",
       "      <td>1022.4900</td>\n",
       "      <td>3/2/2019</td>\n",
       "      <td>17:16</td>\n",
       "      <td>Ewallet</td>\n",
       "      <td>973.80</td>\n",
       "      <td>4.761905</td>\n",
       "      <td>48.6900</td>\n",
       "      <td>4.4</td>\n",
       "    </tr>\n",
       "    <tr>\n",
       "      <th>997</th>\n",
       "      <td>727-02-1313</td>\n",
       "      <td>A</td>\n",
       "      <td>Yangon</td>\n",
       "      <td>Member</td>\n",
       "      <td>Male</td>\n",
       "      <td>Food and beverages</td>\n",
       "      <td>31.84</td>\n",
       "      <td>1</td>\n",
       "      <td>1.5920</td>\n",
       "      <td>33.4320</td>\n",
       "      <td>2/9/2019</td>\n",
       "      <td>13:22</td>\n",
       "      <td>Cash</td>\n",
       "      <td>31.84</td>\n",
       "      <td>4.761905</td>\n",
       "      <td>1.5920</td>\n",
       "      <td>7.7</td>\n",
       "    </tr>\n",
       "    <tr>\n",
       "      <th>998</th>\n",
       "      <td>347-56-2442</td>\n",
       "      <td>A</td>\n",
       "      <td>Yangon</td>\n",
       "      <td>Normal</td>\n",
       "      <td>Male</td>\n",
       "      <td>Home and lifestyle</td>\n",
       "      <td>65.82</td>\n",
       "      <td>1</td>\n",
       "      <td>3.2910</td>\n",
       "      <td>69.1110</td>\n",
       "      <td>2/22/2019</td>\n",
       "      <td>15:33</td>\n",
       "      <td>Cash</td>\n",
       "      <td>65.82</td>\n",
       "      <td>4.761905</td>\n",
       "      <td>3.2910</td>\n",
       "      <td>4.1</td>\n",
       "    </tr>\n",
       "    <tr>\n",
       "      <th>999</th>\n",
       "      <td>849-09-3807</td>\n",
       "      <td>A</td>\n",
       "      <td>Yangon</td>\n",
       "      <td>Member</td>\n",
       "      <td>Female</td>\n",
       "      <td>Fashion accessories</td>\n",
       "      <td>88.34</td>\n",
       "      <td>7</td>\n",
       "      <td>30.9190</td>\n",
       "      <td>649.2990</td>\n",
       "      <td>2/18/2019</td>\n",
       "      <td>13:28</td>\n",
       "      <td>Cash</td>\n",
       "      <td>618.38</td>\n",
       "      <td>4.761905</td>\n",
       "      <td>30.9190</td>\n",
       "      <td>6.6</td>\n",
       "    </tr>\n",
       "  </tbody>\n",
       "</table>\n",
       "<p>1000 rows × 17 columns</p>\n",
       "</div>"
      ],
      "text/plain": [
       "      Invoice ID Branch  ... gross income Rating\n",
       "0    750-67-8428      A  ...      26.1415    9.1\n",
       "1    226-31-3081      C  ...       3.8200    9.6\n",
       "2    631-41-3108      A  ...      16.2155    7.4\n",
       "3    123-19-1176      A  ...      23.2880    8.4\n",
       "4    373-73-7910      A  ...      30.2085    5.3\n",
       "..           ...    ...  ...          ...    ...\n",
       "995  233-67-5758      C  ...       2.0175    6.2\n",
       "996  303-96-2227      B  ...      48.6900    4.4\n",
       "997  727-02-1313      A  ...       1.5920    7.7\n",
       "998  347-56-2442      A  ...       3.2910    4.1\n",
       "999  849-09-3807      A  ...      30.9190    6.6\n",
       "\n",
       "[1000 rows x 17 columns]"
      ]
     },
     "execution_count": 2,
     "metadata": {
      "tags": []
     },
     "output_type": "execute_result"
    }
   ],
   "source": [
    "df = pd.read_csv('skill2.csv')\r\n",
    "df"
   ]
  },
  {
   "cell_type": "code",
   "execution_count": null,
   "metadata": {
    "colab": {
     "base_uri": "https://localhost:8080/",
     "height": 300
    },
    "executionInfo": {
     "elapsed": 1131,
     "status": "ok",
     "timestamp": 1610008557189,
     "user": {
      "displayName": "Radha Krishna",
      "photoUrl": "https://lh3.googleusercontent.com/a-/AOh14GiTjbSMlgPspZrbcvWkvQ0e7mQZ6wRltta96EzUNg=s64",
      "userId": "03805395289779420508"
     },
     "user_tz": -330
    },
    "id": "-Jb85TQS9mHv",
    "outputId": "0f181d2a-f856-4a8d-e1b2-fd82ae9661d4"
   },
   "outputs": [
    {
     "data": {
      "text/html": [
       "<div>\n",
       "<style scoped>\n",
       "    .dataframe tbody tr th:only-of-type {\n",
       "        vertical-align: middle;\n",
       "    }\n",
       "\n",
       "    .dataframe tbody tr th {\n",
       "        vertical-align: top;\n",
       "    }\n",
       "\n",
       "    .dataframe thead th {\n",
       "        text-align: right;\n",
       "    }\n",
       "</style>\n",
       "<table border=\"1\" class=\"dataframe\">\n",
       "  <thead>\n",
       "    <tr style=\"text-align: right;\">\n",
       "      <th></th>\n",
       "      <th>Unit price</th>\n",
       "      <th>Quantity</th>\n",
       "      <th>Tax 5%</th>\n",
       "      <th>Total</th>\n",
       "      <th>cogs</th>\n",
       "      <th>gross margin percentage</th>\n",
       "      <th>gross income</th>\n",
       "      <th>Rating</th>\n",
       "    </tr>\n",
       "  </thead>\n",
       "  <tbody>\n",
       "    <tr>\n",
       "      <th>count</th>\n",
       "      <td>1000.000000</td>\n",
       "      <td>1000.000000</td>\n",
       "      <td>1000.000000</td>\n",
       "      <td>1000.000000</td>\n",
       "      <td>1000.00000</td>\n",
       "      <td>1.000000e+03</td>\n",
       "      <td>1000.000000</td>\n",
       "      <td>1000.00000</td>\n",
       "    </tr>\n",
       "    <tr>\n",
       "      <th>mean</th>\n",
       "      <td>55.672130</td>\n",
       "      <td>5.510000</td>\n",
       "      <td>15.379369</td>\n",
       "      <td>322.966749</td>\n",
       "      <td>307.58738</td>\n",
       "      <td>4.761905e+00</td>\n",
       "      <td>15.379369</td>\n",
       "      <td>6.97270</td>\n",
       "    </tr>\n",
       "    <tr>\n",
       "      <th>std</th>\n",
       "      <td>26.494628</td>\n",
       "      <td>2.923431</td>\n",
       "      <td>11.708825</td>\n",
       "      <td>245.885335</td>\n",
       "      <td>234.17651</td>\n",
       "      <td>6.220360e-14</td>\n",
       "      <td>11.708825</td>\n",
       "      <td>1.71858</td>\n",
       "    </tr>\n",
       "    <tr>\n",
       "      <th>min</th>\n",
       "      <td>10.080000</td>\n",
       "      <td>1.000000</td>\n",
       "      <td>0.508500</td>\n",
       "      <td>10.678500</td>\n",
       "      <td>10.17000</td>\n",
       "      <td>4.761905e+00</td>\n",
       "      <td>0.508500</td>\n",
       "      <td>4.00000</td>\n",
       "    </tr>\n",
       "    <tr>\n",
       "      <th>25%</th>\n",
       "      <td>32.875000</td>\n",
       "      <td>3.000000</td>\n",
       "      <td>5.924875</td>\n",
       "      <td>124.422375</td>\n",
       "      <td>118.49750</td>\n",
       "      <td>4.761905e+00</td>\n",
       "      <td>5.924875</td>\n",
       "      <td>5.50000</td>\n",
       "    </tr>\n",
       "    <tr>\n",
       "      <th>50%</th>\n",
       "      <td>55.230000</td>\n",
       "      <td>5.000000</td>\n",
       "      <td>12.088000</td>\n",
       "      <td>253.848000</td>\n",
       "      <td>241.76000</td>\n",
       "      <td>4.761905e+00</td>\n",
       "      <td>12.088000</td>\n",
       "      <td>7.00000</td>\n",
       "    </tr>\n",
       "    <tr>\n",
       "      <th>75%</th>\n",
       "      <td>77.935000</td>\n",
       "      <td>8.000000</td>\n",
       "      <td>22.445250</td>\n",
       "      <td>471.350250</td>\n",
       "      <td>448.90500</td>\n",
       "      <td>4.761905e+00</td>\n",
       "      <td>22.445250</td>\n",
       "      <td>8.50000</td>\n",
       "    </tr>\n",
       "    <tr>\n",
       "      <th>max</th>\n",
       "      <td>99.960000</td>\n",
       "      <td>10.000000</td>\n",
       "      <td>49.650000</td>\n",
       "      <td>1042.650000</td>\n",
       "      <td>993.00000</td>\n",
       "      <td>4.761905e+00</td>\n",
       "      <td>49.650000</td>\n",
       "      <td>10.00000</td>\n",
       "    </tr>\n",
       "  </tbody>\n",
       "</table>\n",
       "</div>"
      ],
      "text/plain": [
       "        Unit price     Quantity  ...  gross income      Rating\n",
       "count  1000.000000  1000.000000  ...   1000.000000  1000.00000\n",
       "mean     55.672130     5.510000  ...     15.379369     6.97270\n",
       "std      26.494628     2.923431  ...     11.708825     1.71858\n",
       "min      10.080000     1.000000  ...      0.508500     4.00000\n",
       "25%      32.875000     3.000000  ...      5.924875     5.50000\n",
       "50%      55.230000     5.000000  ...     12.088000     7.00000\n",
       "75%      77.935000     8.000000  ...     22.445250     8.50000\n",
       "max      99.960000    10.000000  ...     49.650000    10.00000\n",
       "\n",
       "[8 rows x 8 columns]"
      ]
     },
     "execution_count": 5,
     "metadata": {
      "tags": []
     },
     "output_type": "execute_result"
    }
   ],
   "source": [
    "#1. Information   \r\n",
    "df.describe()"
   ]
  },
  {
   "cell_type": "code",
   "execution_count": null,
   "metadata": {
    "colab": {
     "base_uri": "https://localhost:8080/"
    },
    "executionInfo": {
     "elapsed": 1141,
     "status": "ok",
     "timestamp": 1610008561598,
     "user": {
      "displayName": "Radha Krishna",
      "photoUrl": "https://lh3.googleusercontent.com/a-/AOh14GiTjbSMlgPspZrbcvWkvQ0e7mQZ6wRltta96EzUNg=s64",
      "userId": "03805395289779420508"
     },
     "user_tz": -330
    },
    "id": "Uh0O1KyR9qZN",
    "outputId": "8fbc9e1b-05a7-48bf-c3e7-dddabf49e1c0"
   },
   "outputs": [
    {
     "name": "stdout",
     "output_type": "stream",
     "text": [
      "<class 'pandas.core.frame.DataFrame'>\n",
      "RangeIndex: 1000 entries, 0 to 999\n",
      "Data columns (total 17 columns):\n",
      " #   Column                   Non-Null Count  Dtype  \n",
      "---  ------                   --------------  -----  \n",
      " 0   Invoice ID               1000 non-null   object \n",
      " 1   Branch                   1000 non-null   object \n",
      " 2   City                     1000 non-null   object \n",
      " 3   Customer type            1000 non-null   object \n",
      " 4   Gender                   1000 non-null   object \n",
      " 5   Product line             1000 non-null   object \n",
      " 6   Unit price               1000 non-null   float64\n",
      " 7   Quantity                 1000 non-null   int64  \n",
      " 8   Tax 5%                   1000 non-null   float64\n",
      " 9   Total                    1000 non-null   float64\n",
      " 10  Date                     1000 non-null   object \n",
      " 11  Time                     1000 non-null   object \n",
      " 12  Payment                  1000 non-null   object \n",
      " 13  cogs                     1000 non-null   float64\n",
      " 14  gross margin percentage  1000 non-null   float64\n",
      " 15  gross income             1000 non-null   float64\n",
      " 16  Rating                   1000 non-null   float64\n",
      "dtypes: float64(7), int64(1), object(9)\n",
      "memory usage: 132.9+ KB\n"
     ]
    }
   ],
   "source": [
    "df.info()"
   ]
  },
  {
   "cell_type": "code",
   "execution_count": null,
   "metadata": {
    "colab": {
     "base_uri": "https://localhost:8080/"
    },
    "executionInfo": {
     "elapsed": 1106,
     "status": "ok",
     "timestamp": 1610008580092,
     "user": {
      "displayName": "Radha Krishna",
      "photoUrl": "https://lh3.googleusercontent.com/a-/AOh14GiTjbSMlgPspZrbcvWkvQ0e7mQZ6wRltta96EzUNg=s64",
      "userId": "03805395289779420508"
     },
     "user_tz": -330
    },
    "id": "pcOFdqf5HIpl",
    "outputId": "3649dc42-0fad-4bb3-f23a-4756f0eb46a6"
   },
   "outputs": [
    {
     "data": {
      "text/plain": [
       "0    Fashion accessories\n",
       "dtype: object"
      ]
     },
     "execution_count": 7,
     "metadata": {
      "tags": []
     },
     "output_type": "execute_result"
    }
   ],
   "source": [
    "#2. Mode of Product line\r\n",
    "# a = df['Product line'] or\r\n",
    "#df[start:end:step,start:end:step]\r\n",
    "a=df.iloc[:,5] \r\n",
    "a.mode() # or stats.mode(a)"
   ]
  },
  {
   "cell_type": "code",
   "execution_count": null,
   "metadata": {
    "colab": {
     "base_uri": "https://localhost:8080/",
     "height": 268
    },
    "executionInfo": {
     "elapsed": 1122,
     "status": "ok",
     "timestamp": 1610008596485,
     "user": {
      "displayName": "Radha Krishna",
      "photoUrl": "https://lh3.googleusercontent.com/a-/AOh14GiTjbSMlgPspZrbcvWkvQ0e7mQZ6wRltta96EzUNg=s64",
      "userId": "03805395289779420508"
     },
     "user_tz": -330
    },
    "id": "TSXljI6z-axu",
    "outputId": "b7307c2a-c292-4989-dda9-42213f0d224c"
   },
   "outputs": [
    {
     "data": {
      "text/html": [
       "<div>\n",
       "<style scoped>\n",
       "    .dataframe tbody tr th:only-of-type {\n",
       "        vertical-align: middle;\n",
       "    }\n",
       "\n",
       "    .dataframe tbody tr th {\n",
       "        vertical-align: top;\n",
       "    }\n",
       "\n",
       "    .dataframe thead th {\n",
       "        text-align: right;\n",
       "    }\n",
       "</style>\n",
       "<table border=\"1\" class=\"dataframe\">\n",
       "  <thead>\n",
       "    <tr style=\"text-align: right;\">\n",
       "      <th></th>\n",
       "      <th>Unit price</th>\n",
       "      <th>Quantity</th>\n",
       "      <th>Tax 5%</th>\n",
       "      <th>Total</th>\n",
       "      <th>cogs</th>\n",
       "      <th>gross margin percentage</th>\n",
       "      <th>gross income</th>\n",
       "      <th>Rating</th>\n",
       "    </tr>\n",
       "    <tr>\n",
       "      <th>Product line</th>\n",
       "      <th></th>\n",
       "      <th></th>\n",
       "      <th></th>\n",
       "      <th></th>\n",
       "      <th></th>\n",
       "      <th></th>\n",
       "      <th></th>\n",
       "      <th></th>\n",
       "    </tr>\n",
       "  </thead>\n",
       "  <tbody>\n",
       "    <tr>\n",
       "      <th>Electronic accessories</th>\n",
       "      <td>53.551588</td>\n",
       "      <td>5.711765</td>\n",
       "      <td>15.220597</td>\n",
       "      <td>319.632538</td>\n",
       "      <td>304.411941</td>\n",
       "      <td>4.761905</td>\n",
       "      <td>15.220597</td>\n",
       "      <td>6.924706</td>\n",
       "    </tr>\n",
       "    <tr>\n",
       "      <th>Fashion accessories</th>\n",
       "      <td>57.153652</td>\n",
       "      <td>5.067416</td>\n",
       "      <td>14.528062</td>\n",
       "      <td>305.089298</td>\n",
       "      <td>290.561236</td>\n",
       "      <td>4.761905</td>\n",
       "      <td>14.528062</td>\n",
       "      <td>7.029213</td>\n",
       "    </tr>\n",
       "    <tr>\n",
       "      <th>Food and beverages</th>\n",
       "      <td>56.008851</td>\n",
       "      <td>5.471264</td>\n",
       "      <td>15.365310</td>\n",
       "      <td>322.671517</td>\n",
       "      <td>307.306207</td>\n",
       "      <td>4.761905</td>\n",
       "      <td>15.365310</td>\n",
       "      <td>7.113218</td>\n",
       "    </tr>\n",
       "    <tr>\n",
       "      <th>Health and beauty</th>\n",
       "      <td>54.854474</td>\n",
       "      <td>5.618421</td>\n",
       "      <td>15.411572</td>\n",
       "      <td>323.643020</td>\n",
       "      <td>308.231447</td>\n",
       "      <td>4.761905</td>\n",
       "      <td>15.411572</td>\n",
       "      <td>7.003289</td>\n",
       "    </tr>\n",
       "    <tr>\n",
       "      <th>Home and lifestyle</th>\n",
       "      <td>55.316937</td>\n",
       "      <td>5.693750</td>\n",
       "      <td>16.030331</td>\n",
       "      <td>336.636956</td>\n",
       "      <td>320.606625</td>\n",
       "      <td>4.761905</td>\n",
       "      <td>16.030331</td>\n",
       "      <td>6.837500</td>\n",
       "    </tr>\n",
       "    <tr>\n",
       "      <th>Sports and travel</th>\n",
       "      <td>56.993253</td>\n",
       "      <td>5.542169</td>\n",
       "      <td>15.812630</td>\n",
       "      <td>332.065220</td>\n",
       "      <td>316.252590</td>\n",
       "      <td>4.761905</td>\n",
       "      <td>15.812630</td>\n",
       "      <td>6.916265</td>\n",
       "    </tr>\n",
       "  </tbody>\n",
       "</table>\n",
       "</div>"
      ],
      "text/plain": [
       "                        Unit price  Quantity  ...  gross income    Rating\n",
       "Product line                                  ...                        \n",
       "Electronic accessories   53.551588  5.711765  ...     15.220597  6.924706\n",
       "Fashion accessories      57.153652  5.067416  ...     14.528062  7.029213\n",
       "Food and beverages       56.008851  5.471264  ...     15.365310  7.113218\n",
       "Health and beauty        54.854474  5.618421  ...     15.411572  7.003289\n",
       "Home and lifestyle       55.316937  5.693750  ...     16.030331  6.837500\n",
       "Sports and travel        56.993253  5.542169  ...     15.812630  6.916265\n",
       "\n",
       "[6 rows x 8 columns]"
      ]
     },
     "execution_count": 8,
     "metadata": {
      "tags": []
     },
     "output_type": "execute_result"
    }
   ],
   "source": [
    "#3. Mean of product Line\r\n",
    "# Mean for String values not allowed( Doubt)\r\n",
    "# a = df['Product line']\r\n",
    "# a.mean()\r\n",
    "mn = df.groupby('Product line').mean()\r\n",
    "mn"
   ]
  },
  {
   "cell_type": "code",
   "execution_count": null,
   "metadata": {
    "colab": {
     "base_uri": "https://localhost:8080/"
    },
    "executionInfo": {
     "elapsed": 1161,
     "status": "ok",
     "timestamp": 1610008606898,
     "user": {
      "displayName": "Radha Krishna",
      "photoUrl": "https://lh3.googleusercontent.com/a-/AOh14GiTjbSMlgPspZrbcvWkvQ0e7mQZ6wRltta96EzUNg=s64",
      "userId": "03805395289779420508"
     },
     "user_tz": -330
    },
    "id": "IZ1yKhWOABky",
    "outputId": "ed786ea0-98d4-4fa5-99a1-a06a42a9edb5"
   },
   "outputs": [
    {
     "data": {
      "text/plain": [
       "26.494628347919768"
      ]
     },
     "execution_count": 9,
     "metadata": {
      "tags": []
     },
     "output_type": "execute_result"
    }
   ],
   "source": [
    "#4. Standard deviation of Unit Price \r\n",
    "b = df['Unit price']\r\n",
    "b.std()"
   ]
  },
  {
   "cell_type": "code",
   "execution_count": null,
   "metadata": {
    "colab": {
     "base_uri": "https://localhost:8080/"
    },
    "executionInfo": {
     "elapsed": 1146,
     "status": "ok",
     "timestamp": 1610008616172,
     "user": {
      "displayName": "Radha Krishna",
      "photoUrl": "https://lh3.googleusercontent.com/a-/AOh14GiTjbSMlgPspZrbcvWkvQ0e7mQZ6wRltta96EzUNg=s64",
      "userId": "03805395289779420508"
     },
     "user_tz": -330
    },
    "id": "hQcA2W43HZaZ",
    "outputId": "6e5cba73-9fbc-4b3e-d2cc-98d43de4f021"
   },
   "outputs": [
    {
     "name": "stdout",
     "output_type": "stream",
     "text": [
      "Total Customers: 1000\n",
      "Total Female Customers:  501\n",
      "Total Male Customers:  499\n"
     ]
    }
   ],
   "source": [
    "#5\r\n",
    "#Total Customers\r\n",
    "tot_cust = df[\"Invoice ID\"]\r\n",
    "print(\"Total Customers:\",tot_cust.shape[0])\r\n",
    "# df[\"Invoice ID\"].value_counts()\r\n",
    "# df[\"Gender\"].value_counts()\r\n",
    "\r\n",
    "#Total Females\r\n",
    "tot_fem = df[df[\"Gender\"]=='Female']\r\n",
    "print(\"Total Female Customers: \",tot_fem.shape[0])\r\n",
    "\r\n",
    "#Total Males\r\n",
    "tot_mal = df[df[\"Gender\"]=='Male']\r\n",
    "print(\"Total Male Customers: \",tot_mal.shape[0])"
   ]
  },
  {
   "cell_type": "code",
   "execution_count": null,
   "metadata": {
    "colab": {
     "base_uri": "https://localhost:8080/"
    },
    "executionInfo": {
     "elapsed": 1131,
     "status": "ok",
     "timestamp": 1610008625762,
     "user": {
      "displayName": "Radha Krishna",
      "photoUrl": "https://lh3.googleusercontent.com/a-/AOh14GiTjbSMlgPspZrbcvWkvQ0e7mQZ6wRltta96EzUNg=s64",
      "userId": "03805395289779420508"
     },
     "user_tz": -330
    },
    "id": "lA8_r8DKHcH2",
    "outputId": "41412ef6-7807-4918-d81e-71a3fad08889"
   },
   "outputs": [
    {
     "name": "stdout",
     "output_type": "stream",
     "text": [
      "Max customers paying through E-Wallet:  345\n"
     ]
    }
   ],
   "source": [
    "#6\r\n",
    "#People paying through E-wallet\r\n",
    "tot_wal = df[df[\"Payment\"] == \"Ewallet\"]\r\n",
    "print(\"Max customers paying through E-Wallet: \",tot_wal.shape[0])"
   ]
  },
  {
   "cell_type": "code",
   "execution_count": null,
   "metadata": {
    "colab": {
     "base_uri": "https://localhost:8080/"
    },
    "executionInfo": {
     "elapsed": 1183,
     "status": "ok",
     "timestamp": 1610008634496,
     "user": {
      "displayName": "Radha Krishna",
      "photoUrl": "https://lh3.googleusercontent.com/a-/AOh14GiTjbSMlgPspZrbcvWkvQ0e7mQZ6wRltta96EzUNg=s64",
      "userId": "03805395289779420508"
     },
     "user_tz": -330
    },
    "id": "-dInNK9FHpiU",
    "outputId": "c5ed577c-7f9e-49e2-f464-dc02615a4af0"
   },
   "outputs": [
    {
     "name": "stdout",
     "output_type": "stream",
     "text": [
      "Max people coming from Yangon city are :  340\n"
     ]
    }
   ],
   "source": [
    "#7\r\n",
    "#People coming from Yangon city\r\n",
    "yangon = df[df[\"City\"]==\"Yangon\"]\r\n",
    "print(\"Max people coming from Yangon city are : \",yangon.shape[0])"
   ]
  },
  {
   "cell_type": "code",
   "execution_count": null,
   "metadata": {
    "colab": {
     "base_uri": "https://localhost:8080/"
    },
    "executionInfo": {
     "elapsed": 1347,
     "status": "ok",
     "timestamp": 1611051028463,
     "user": {
      "displayName": "Radha Krishna",
      "photoUrl": "https://lh3.googleusercontent.com/a-/AOh14GiTjbSMlgPspZrbcvWkvQ0e7mQZ6wRltta96EzUNg=s64",
      "userId": "03805395289779420508"
     },
     "user_tz": -330
    },
    "id": "3SrJ_zAWIKYG",
    "outputId": "4b5a3b99-c32e-43de-8fa0-c651ecedaca8"
   },
   "outputs": [
    {
     "name": "stdout",
     "output_type": "stream",
     "text": [
      "Average Sales of Fashion Accesories by Female:  317.0562500000001\n"
     ]
    }
   ],
   "source": [
    "#8\r\n",
    "#Total average sales of Fashion accesories by females\r\n",
    "fem_sales = df[(df[\"Gender\"] == \"Female\") & (df[\"Product line\"]==\"Fashion accessories\")]\r\n",
    "print(\"Average Sales of Fashion Accesories by Female: \",fem_sales[\"Total\"].mean())"
   ]
  },
  {
   "cell_type": "code",
   "execution_count": null,
   "metadata": {
    "colab": {
     "base_uri": "https://localhost:8080/"
    },
    "executionInfo": {
     "elapsed": 936,
     "status": "ok",
     "timestamp": 1611051032556,
     "user": {
      "displayName": "Radha Krishna",
      "photoUrl": "https://lh3.googleusercontent.com/a-/AOh14GiTjbSMlgPspZrbcvWkvQ0e7mQZ6wRltta96EzUNg=s64",
      "userId": "03805395289779420508"
     },
     "user_tz": -330
    },
    "id": "Ceo4gr6AIYjj",
    "outputId": "3eb57e98-966e-4926-fdbf-c16faff41ed4"
   },
   "outputs": [
    {
     "name": "stdout",
     "output_type": "stream",
     "text": [
      "Average Sales of Health and beauty by Male:  348.0994602272727\n"
     ]
    }
   ],
   "source": [
    "#9\r\n",
    "#Total average sales of Health & Beauty by males\r\n",
    "male_sales = df[(df[\"Gender\"] == \"Male\") & (df[\"Product line\"]==\"Health and beauty\")]\r\n",
    "print(\"Average Sales of Health and beauty by Male: \",male_sales[\"Total\"].mean())"
   ]
  }
 ],
 "metadata": {
  "colab": {
   "authorship_tag": "ABX9TyNmwmCI5M79ZaYhH8JvY0Zr",
   "collapsed_sections": [],
   "name": "DS SKILL-2.ipynb",
   "provenance": []
  },
  "kernelspec": {
   "display_name": "Python 3",
   "name": "python3"
  }
 },
 "nbformat": 4,
 "nbformat_minor": 0
}
