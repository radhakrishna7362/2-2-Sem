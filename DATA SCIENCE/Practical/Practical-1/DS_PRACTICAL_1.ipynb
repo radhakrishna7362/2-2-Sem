{
 "cells": [
  {
   "cell_type": "markdown",
   "metadata": {
    "id": "EegRrQY12fBq"
   },
   "source": [
    "**NAME: NERELLA VENKATA RADHAKRISHNA**\n",
    "\n",
    "**ID: 190031187**\n",
    "\n",
    "**PRACTICAL-1**"
   ]
  },
  {
   "cell_type": "code",
   "execution_count": 1,
   "metadata": {
    "id": "Gc2kzvOZuxtG"
   },
   "outputs": [],
   "source": [
    "import pandas as pd\n",
    "import numpy as np"
   ]
  },
  {
   "cell_type": "code",
   "execution_count": 2,
   "metadata": {
    "colab": {
     "base_uri": "https://localhost:8080/"
    },
    "id": "cPQA3mXJuzdO",
    "outputId": "6a2d027d-7d6b-4756-bc12-192c59d0535e"
   },
   "outputs": [
    {
     "name": "stdout",
     "output_type": "stream",
     "text": [
      "[5 7 9]\n",
      "[15 21 27]\n"
     ]
    }
   ],
   "source": [
    "#1.1\n",
    "#Create 2 1D arrays\n",
    "a = np.array([1,2,3])\n",
    "b = np.array([4,5,6])\n",
    "\n",
    "#Add individual elements\n",
    "_sum = np.add(a,b)\n",
    "print(_sum)\n",
    "\n",
    "#Multiplying individual elements with 3\n",
    "print(_sum * 3)"
   ]
  },
  {
   "cell_type": "code",
   "execution_count": 3,
   "metadata": {
    "colab": {
     "base_uri": "https://localhost:8080/"
    },
    "id": "U3tcCse3u2If",
    "outputId": "3b3faa46-48bf-4202-854f-e0a3c74e3d8a"
   },
   "outputs": [
    {
     "name": "stdout",
     "output_type": "stream",
     "text": [
      "Logical And:  [False  True  True]  , Logical OR:  [ True  True  True]  , Logical Not:  [ True  True  True]\n"
     ]
    }
   ],
   "source": [
    "#1.2\n",
    "#Logical operators on Numpy arrays\n",
    "_or = np.logical_or(a>1, a<4)\n",
    "_and = np.logical_and(a>1,a<4)\n",
    "_not = np.logical_not(a<0)\n",
    "\n",
    "print('Logical And: ', _and,\" , Logical OR: \", _or,\" , Logical Not: \",_not)"
   ]
  },
  {
   "cell_type": "code",
   "execution_count": 4,
   "metadata": {
    "colab": {
     "base_uri": "https://localhost:8080/"
    },
    "id": "N6X-suuBu6lK",
    "outputId": "d3631f24-89c4-4162-fcab-8af28253fc7f"
   },
   "outputs": [
    {
     "name": "stdout",
     "output_type": "stream",
     "text": [
      "[2 3 4 5 6 7 8 9]\n",
      "[1 2 3 4 5]\n",
      "[1 3 5]\n"
     ]
    }
   ],
   "source": [
    "#1.3\n",
    "#Data Slicing on numpy arrays\n",
    "\n",
    "arr = np.array([1,2,3,4,5,6,7,8,9])\n",
    "s1 = arr[1:]\n",
    "s2 = arr[:5]\n",
    "s3 = arr[0:5:2]\n",
    "print(s1)\n",
    "print(s2)\n",
    "print(s3)"
   ]
  },
  {
   "cell_type": "code",
   "execution_count": 5,
   "metadata": {
    "colab": {
     "base_uri": "https://localhost:8080/"
    },
    "id": "X299xDjWyMSN",
    "outputId": "808fb0d7-4eb2-4b4a-f5a3-ead794e421f1"
   },
   "outputs": [
    {
     "data": {
      "text/plain": [
       "array([False, False, False])"
      ]
     },
     "execution_count": 5,
     "metadata": {},
     "output_type": "execute_result"
    }
   ],
   "source": [
    "#1.4\n",
    "#Boolean operations between arrays\n",
    "\n",
    "arr = np.array([1,2,3])\n",
    "arr1 = np.array([4,5,6])\n",
    "arr>arr1"
   ]
  },
  {
   "cell_type": "code",
   "execution_count": 6,
   "metadata": {
    "colab": {
     "base_uri": "https://localhost:8080/"
    },
    "id": "2DZeWW1hvA-M",
    "outputId": "e0b33f24-fd6e-4eac-d206-a8d8d3a65eff"
   },
   "outputs": [
    {
     "name": "stdout",
     "output_type": "stream",
     "text": [
      "[5 7 9]\n",
      "[15 21 27]\n"
     ]
    }
   ],
   "source": [
    "#2\n",
    "#Create 2d arrays\n",
    "c = np.array([[1,2,3],[4,5,6],[7,8,9]])\n",
    "d = np.array([[11,12,13],[14,15,16],[17,18,19]])\n",
    "\n",
    "#Add individual elements\n",
    "_sum = np.add(a,b)\n",
    "print(_sum)\n",
    "\n",
    "#Multiplying individual elements with 3\n",
    "print(_sum * 3)"
   ]
  },
  {
   "cell_type": "code",
   "execution_count": 7,
   "metadata": {
    "colab": {
     "base_uri": "https://localhost:8080/"
    },
    "id": "s3XQcMM_vDDZ",
    "outputId": "e1c6553b-de2f-4515-fe1f-b1125055c854"
   },
   "outputs": [
    {
     "name": "stdout",
     "output_type": "stream",
     "text": [
      "Logical And:\n",
      "  [[ True  True  True]\n",
      " [ True  True  True]\n",
      " [ True  True  True]]\n",
      "Logical OR:\n",
      "  [[ True  True  True]\n",
      " [ True  True  True]\n",
      " [ True  True  True]]\n",
      "Logical Not:\n",
      "  [[False False False]\n",
      " [False False False]\n",
      " [False False False]]\n"
     ]
    }
   ],
   "source": [
    "#2.1\n",
    "#Logical operators on Numpy arrays\n",
    "_or = np.logical_or(c,d)\n",
    "_and = np.logical_and(c,d)\n",
    "_not = np.logical_not(c)\n",
    "\n",
    "print('Logical And:\\n ', _and)\n",
    "print(\"Logical OR:\\n \", _or)\n",
    "print(\"Logical Not:\\n \",_not)"
   ]
  },
  {
   "cell_type": "code",
   "execution_count": 8,
   "metadata": {
    "colab": {
     "base_uri": "https://localhost:8080/"
    },
    "id": "LVzwhs62vK07",
    "outputId": "008d2471-b0a2-4b9a-d938-09c14a48f1c5"
   },
   "outputs": [
    {
     "name": "stdout",
     "output_type": "stream",
     "text": [
      "[[1 2]\n",
      " [4 5]]\n",
      "[[2 3]\n",
      " [5 6]\n",
      " [8 9]]\n",
      "[[1 2 3]\n",
      " [7 8 9]]\n"
     ]
    }
   ],
   "source": [
    "#2.2\n",
    "#Data Slicing on numpy arrays\n",
    "\n",
    "arr = np.array([[1,2,3],[4,5,6],[7,8,9]])\n",
    "s1 = arr[0:2,0:2]\n",
    "s2 = arr[0:,1:]\n",
    "s3 = arr[::2,:]\n",
    "print(s1)\n",
    "print(s2)\n",
    "print(s3)"
   ]
  },
  {
   "cell_type": "code",
   "execution_count": 9,
   "metadata": {
    "colab": {
     "base_uri": "https://localhost:8080/"
    },
    "id": "uzeWZJcHyxv9",
    "outputId": "3a406d2b-d9c1-4bbc-b66a-918ccfbffc84"
   },
   "outputs": [
    {
     "data": {
      "text/plain": [
       "array([[ True,  True,  True],\n",
       "       [ True,  True,  True],\n",
       "       [False, False, False]])"
      ]
     },
     "execution_count": 9,
     "metadata": {},
     "output_type": "execute_result"
    }
   ],
   "source": [
    "#2.3\n",
    "#Boolean operations between arrays\n",
    "\n",
    "arr = np.array([[1,2,3],[4,5,6],[7,8,9]])\n",
    "c = np.array([[4,5,6],[10,11,12],[7,8,9]])\n",
    "\n",
    "arr<c"
   ]
  },
  {
   "cell_type": "code",
   "execution_count": 10,
   "metadata": {
    "colab": {
     "base_uri": "https://localhost:8080/"
    },
    "id": "SqoXRx0AvT22",
    "outputId": "0491d3d4-2ef5-4b15-c052-3f3276559d49"
   },
   "outputs": [
    {
     "name": "stdout",
     "output_type": "stream",
     "text": [
      "Original Shape:  (2, 3)\n",
      "reshaped array :  [[1 2]\n",
      " [3 4]\n",
      " [5 6]]\n",
      "New shape:  (3, 2)\n"
     ]
    }
   ],
   "source": [
    "#3.1\n",
    "#Reshape\n",
    "c = np.array([[1,2,3],[4,5,6]])\n",
    "print(\"Original Shape: \",np.shape(c))#Get original Shape\n",
    "c_re = np.reshape(c,(3,2))\n",
    "print(\"reshaped array : \",c_re)\n",
    "print(\"New shape: \",np.shape(c_re))"
   ]
  },
  {
   "cell_type": "code",
   "execution_count": 11,
   "metadata": {
    "colab": {
     "base_uri": "https://localhost:8080/"
    },
    "id": "W42dcBsLvXU2",
    "outputId": "05b9af64-75e8-41e3-dc5a-b1edc8434d69"
   },
   "outputs": [
    {
     "name": "stdout",
     "output_type": "stream",
     "text": [
      "[0 2 4 6 8]\n",
      "[-10 -11 -12 -13 -14 -15 -16 -17 -18 -19]\n",
      "[-10  -9  -8  -7  -6  -5  -4  -3  -2  -1   0   1   2   3   4   5   6   7\n",
      "   8   9  10  11  12  13  14  15  16  17  18  19]\n",
      "[]\n"
     ]
    }
   ],
   "source": [
    "#3.2\n",
    "#Arrange\n",
    "arr = np.arange(0,9,2)\n",
    "arr2 = np.arange(-10,-20,-1)\n",
    "arr3 = np.arange(-10,20,1)\n",
    "arr4 = np.arange(0,-50,2)\n",
    "\n",
    "print(arr)\n",
    "print(arr2)\n",
    "print(arr3)\n",
    "print(arr4)"
   ]
  },
  {
   "cell_type": "code",
   "execution_count": 12,
   "metadata": {
    "colab": {
     "base_uri": "https://localhost:8080/"
    },
    "id": "S_y8siATvY9s",
    "outputId": "c2e1decd-24ee-4e18-c25c-48970f9a9e2c"
   },
   "outputs": [
    {
     "name": "stdout",
     "output_type": "stream",
     "text": [
      "Original Array:  [[1 2 3]\n",
      " [4 5 6]]\n",
      "Original Size:  6\n",
      "Resized Array:  [[1 2]\n",
      " [3 4]\n",
      " [5 6]]\n"
     ]
    }
   ],
   "source": [
    "#3.3\n",
    "#Resize in numpy arrays\n",
    "c = np.array([[1,2,3],[4,5,6]])\n",
    "print(\"Original Array: \",c)\n",
    "print(\"Original Size: \",np.size(c))\n",
    "c.resize(3,2)\n",
    "print(\"Resized Array: \",c)"
   ]
  },
  {
   "cell_type": "code",
   "execution_count": 13,
   "metadata": {
    "colab": {
     "base_uri": "https://localhost:8080/"
    },
    "id": "0vZaBFS-vdaA",
    "outputId": "24c145b8-3b78-4c88-8dc7-891f5b0f9f23"
   },
   "outputs": [
    {
     "data": {
      "text/plain": [
       "[array([[ 1,  2],\n",
       "        [ 5,  6],\n",
       "        [ 9, 10],\n",
       "        [13, 14]]),\n",
       " array([[ 3,  4],\n",
       "        [ 7,  8],\n",
       "        [11, 12],\n",
       "        [15, 16]])]"
      ]
     },
     "execution_count": 13,
     "metadata": {},
     "output_type": "execute_result"
    }
   ],
   "source": [
    "#3.4\n",
    "#hsplit - splitting coloumn wise\n",
    "arr = np.arange(1,17).reshape(4,4)\n",
    "arr_hsplit = np.hsplit(arr,2) #divides array coloumn wise into 2 subarrays\n",
    "arr_hsplit"
   ]
  },
  {
   "cell_type": "code",
   "execution_count": 14,
   "metadata": {
    "colab": {
     "base_uri": "https://localhost:8080/"
    },
    "id": "sMoOS-EnvgDF",
    "outputId": "6365ec9d-7c71-4ea3-b526-aaa7502f74f4"
   },
   "outputs": [
    {
     "name": "stdout",
     "output_type": "stream",
     "text": [
      "[[1. 1. 1.]\n",
      " [1. 1. 1.]\n",
      " [1. 1. 1.]]\n",
      "[[1 1 1]\n",
      " [1 1 1]\n",
      " [1 1 1]]\n",
      "[1]\n",
      "[2]\n"
     ]
    }
   ],
   "source": [
    "#3.5\n",
    "#Ones in numpy\n",
    "one  = np.ones((3,3),dtype=float)\n",
    "one_re = np.ones((3,3),dtype=int)\n",
    "print(one)\n",
    "print(one_re)\n",
    "\n",
    "#Extract 1's and 2's\n",
    "arr = np.array([[1,2,3],[4,5,6]])\n",
    "cond = arr==1\n",
    "cond2 = arr==2\n",
    "print(np.extract(cond,arr))\n",
    "print(np.extract(cond2,arr))"
   ]
  },
  {
   "cell_type": "code",
   "execution_count": 15,
   "metadata": {
    "colab": {
     "base_uri": "https://localhost:8080/"
    },
    "id": "5MwnndiWxsIJ",
    "outputId": "ec76b041-42bf-4673-99c3-2e747d557748"
   },
   "outputs": [
    {
     "name": "stderr",
     "output_type": "stream",
     "text": [
      "<ipython-input-15-be4eaa3fd077>:3: DeprecationWarning: np.asscalar(a) is deprecated since NumPy v1.16, use a.item() instead\n",
      "  np.asscalar(np.array([24]))\n"
     ]
    },
    {
     "data": {
      "text/plain": [
       "24"
      ]
     },
     "execution_count": 15,
     "metadata": {},
     "output_type": "execute_result"
    }
   ],
   "source": [
    "#3.6\n",
    "#Scalar()\n",
    "np.asscalar(np.array([24]))"
   ]
  },
  {
   "cell_type": "code",
   "execution_count": 16,
   "metadata": {
    "colab": {
     "base_uri": "https://localhost:8080/",
     "height": 327
    },
    "id": "3Z34b7AtvkfW",
    "outputId": "cc0aa7d1-8418-4175-c3b4-94cdeb9d2a31"
   },
   "outputs": [
    {
     "name": "stdout",
     "output_type": "stream",
     "text": [
      "Original Multiindex:  MultiIndex([(1,   'red'),\n",
      "            (2, 'green'),\n",
      "            (3,  'blue'),\n",
      "            (4, 'white'),\n",
      "            (5, 'black')],\n",
      "           names=['number', 'color'])\n",
      "Data Frame: \n"
     ]
    },
    {
     "data": {
      "text/html": [
       "<div>\n",
       "<style scoped>\n",
       "    .dataframe tbody tr th:only-of-type {\n",
       "        vertical-align: middle;\n",
       "    }\n",
       "\n",
       "    .dataframe tbody tr th {\n",
       "        vertical-align: top;\n",
       "    }\n",
       "\n",
       "    .dataframe thead th {\n",
       "        text-align: right;\n",
       "    }\n",
       "</style>\n",
       "<table border=\"1\" class=\"dataframe\">\n",
       "  <thead>\n",
       "    <tr style=\"text-align: right;\">\n",
       "      <th></th>\n",
       "      <th>number</th>\n",
       "      <th>color</th>\n",
       "    </tr>\n",
       "  </thead>\n",
       "  <tbody>\n",
       "    <tr>\n",
       "      <th>0</th>\n",
       "      <td>1</td>\n",
       "      <td>red</td>\n",
       "    </tr>\n",
       "    <tr>\n",
       "      <th>1</th>\n",
       "      <td>2</td>\n",
       "      <td>green</td>\n",
       "    </tr>\n",
       "    <tr>\n",
       "      <th>2</th>\n",
       "      <td>3</td>\n",
       "      <td>blue</td>\n",
       "    </tr>\n",
       "    <tr>\n",
       "      <th>3</th>\n",
       "      <td>4</td>\n",
       "      <td>white</td>\n",
       "    </tr>\n",
       "    <tr>\n",
       "      <th>4</th>\n",
       "      <td>5</td>\n",
       "      <td>black</td>\n",
       "    </tr>\n",
       "  </tbody>\n",
       "</table>\n",
       "</div>"
      ],
      "text/plain": [
       "   number  color\n",
       "0       1    red\n",
       "1       2  green\n",
       "2       3   blue\n",
       "3       4  white\n",
       "4       5  black"
      ]
     },
     "execution_count": 16,
     "metadata": {},
     "output_type": "execute_result"
    }
   ],
   "source": [
    "#4\n",
    "#Creating dataframe with multi index\n",
    "arr = [[1,2,3,4,5],['red','green','blue','white','black']]\n",
    "mi = pd.MultiIndex.from_arrays(arr, names=('number', 'color'))\n",
    "print(\"Original Multiindex: \",mi)\n",
    "print(\"Data Frame: \")\n",
    "mi.to_frame(index=False)"
   ]
  },
  {
   "cell_type": "code",
   "execution_count": 18,
   "metadata": {
    "colab": {
     "base_uri": "https://localhost:8080/",
     "height": 443
    },
    "id": "t4LF4AGVvoKN",
    "outputId": "595da0e0-949f-4f31-dfe5-defa9371bf55"
   },
   "outputs": [
    {
     "data": {
      "text/html": [
       "<div>\n",
       "<style scoped>\n",
       "    .dataframe tbody tr th:only-of-type {\n",
       "        vertical-align: middle;\n",
       "    }\n",
       "\n",
       "    .dataframe tbody tr th {\n",
       "        vertical-align: top;\n",
       "    }\n",
       "\n",
       "    .dataframe thead th {\n",
       "        text-align: right;\n",
       "    }\n",
       "</style>\n",
       "<table border=\"1\" class=\"dataframe\">\n",
       "  <thead>\n",
       "    <tr style=\"text-align: right;\">\n",
       "      <th></th>\n",
       "      <th>gender</th>\n",
       "      <th>NationalITy</th>\n",
       "      <th>PlaceofBirth</th>\n",
       "      <th>StageID</th>\n",
       "      <th>GradeID</th>\n",
       "      <th>SectionID</th>\n",
       "      <th>Topic</th>\n",
       "      <th>Semester</th>\n",
       "      <th>Relation</th>\n",
       "      <th>raisedhands</th>\n",
       "      <th>VisITedResources</th>\n",
       "      <th>AnnouncementsView</th>\n",
       "      <th>Discussion</th>\n",
       "      <th>ParentAnsweringSurvey</th>\n",
       "      <th>ParentschoolSatisfaction</th>\n",
       "      <th>StudentAbsenceDays</th>\n",
       "      <th>Class</th>\n",
       "    </tr>\n",
       "  </thead>\n",
       "  <tbody>\n",
       "    <tr>\n",
       "      <th>0</th>\n",
       "      <td>M</td>\n",
       "      <td>KW</td>\n",
       "      <td>KuwaIT</td>\n",
       "      <td>lowerlevel</td>\n",
       "      <td>G-04</td>\n",
       "      <td>A</td>\n",
       "      <td>IT</td>\n",
       "      <td>F</td>\n",
       "      <td>Father</td>\n",
       "      <td>15</td>\n",
       "      <td>16</td>\n",
       "      <td>2</td>\n",
       "      <td>20</td>\n",
       "      <td>Yes</td>\n",
       "      <td>Good</td>\n",
       "      <td>Under-7</td>\n",
       "      <td>M</td>\n",
       "    </tr>\n",
       "    <tr>\n",
       "      <th>1</th>\n",
       "      <td>M</td>\n",
       "      <td>KW</td>\n",
       "      <td>KuwaIT</td>\n",
       "      <td>lowerlevel</td>\n",
       "      <td>G-04</td>\n",
       "      <td>A</td>\n",
       "      <td>IT</td>\n",
       "      <td>F</td>\n",
       "      <td>Father</td>\n",
       "      <td>20</td>\n",
       "      <td>20</td>\n",
       "      <td>3</td>\n",
       "      <td>25</td>\n",
       "      <td>Yes</td>\n",
       "      <td>Good</td>\n",
       "      <td>Under-7</td>\n",
       "      <td>M</td>\n",
       "    </tr>\n",
       "    <tr>\n",
       "      <th>2</th>\n",
       "      <td>M</td>\n",
       "      <td>KW</td>\n",
       "      <td>KuwaIT</td>\n",
       "      <td>lowerlevel</td>\n",
       "      <td>G-04</td>\n",
       "      <td>A</td>\n",
       "      <td>IT</td>\n",
       "      <td>F</td>\n",
       "      <td>Father</td>\n",
       "      <td>10</td>\n",
       "      <td>7</td>\n",
       "      <td>0</td>\n",
       "      <td>30</td>\n",
       "      <td>No</td>\n",
       "      <td>Bad</td>\n",
       "      <td>Above-7</td>\n",
       "      <td>L</td>\n",
       "    </tr>\n",
       "    <tr>\n",
       "      <th>3</th>\n",
       "      <td>M</td>\n",
       "      <td>KW</td>\n",
       "      <td>KuwaIT</td>\n",
       "      <td>lowerlevel</td>\n",
       "      <td>G-04</td>\n",
       "      <td>A</td>\n",
       "      <td>IT</td>\n",
       "      <td>F</td>\n",
       "      <td>Father</td>\n",
       "      <td>30</td>\n",
       "      <td>25</td>\n",
       "      <td>5</td>\n",
       "      <td>35</td>\n",
       "      <td>No</td>\n",
       "      <td>Bad</td>\n",
       "      <td>Above-7</td>\n",
       "      <td>L</td>\n",
       "    </tr>\n",
       "    <tr>\n",
       "      <th>4</th>\n",
       "      <td>M</td>\n",
       "      <td>KW</td>\n",
       "      <td>KuwaIT</td>\n",
       "      <td>lowerlevel</td>\n",
       "      <td>G-04</td>\n",
       "      <td>A</td>\n",
       "      <td>IT</td>\n",
       "      <td>F</td>\n",
       "      <td>Father</td>\n",
       "      <td>40</td>\n",
       "      <td>50</td>\n",
       "      <td>12</td>\n",
       "      <td>50</td>\n",
       "      <td>No</td>\n",
       "      <td>Bad</td>\n",
       "      <td>Above-7</td>\n",
       "      <td>M</td>\n",
       "    </tr>\n",
       "    <tr>\n",
       "      <th>...</th>\n",
       "      <td>...</td>\n",
       "      <td>...</td>\n",
       "      <td>...</td>\n",
       "      <td>...</td>\n",
       "      <td>...</td>\n",
       "      <td>...</td>\n",
       "      <td>...</td>\n",
       "      <td>...</td>\n",
       "      <td>...</td>\n",
       "      <td>...</td>\n",
       "      <td>...</td>\n",
       "      <td>...</td>\n",
       "      <td>...</td>\n",
       "      <td>...</td>\n",
       "      <td>...</td>\n",
       "      <td>...</td>\n",
       "      <td>...</td>\n",
       "    </tr>\n",
       "    <tr>\n",
       "      <th>475</th>\n",
       "      <td>F</td>\n",
       "      <td>Jordan</td>\n",
       "      <td>Jordan</td>\n",
       "      <td>MiddleSchool</td>\n",
       "      <td>G-08</td>\n",
       "      <td>A</td>\n",
       "      <td>Chemistry</td>\n",
       "      <td>S</td>\n",
       "      <td>Father</td>\n",
       "      <td>5</td>\n",
       "      <td>4</td>\n",
       "      <td>5</td>\n",
       "      <td>8</td>\n",
       "      <td>No</td>\n",
       "      <td>Bad</td>\n",
       "      <td>Above-7</td>\n",
       "      <td>L</td>\n",
       "    </tr>\n",
       "    <tr>\n",
       "      <th>476</th>\n",
       "      <td>F</td>\n",
       "      <td>Jordan</td>\n",
       "      <td>Jordan</td>\n",
       "      <td>MiddleSchool</td>\n",
       "      <td>G-08</td>\n",
       "      <td>A</td>\n",
       "      <td>Geology</td>\n",
       "      <td>F</td>\n",
       "      <td>Father</td>\n",
       "      <td>50</td>\n",
       "      <td>77</td>\n",
       "      <td>14</td>\n",
       "      <td>28</td>\n",
       "      <td>No</td>\n",
       "      <td>Bad</td>\n",
       "      <td>Under-7</td>\n",
       "      <td>M</td>\n",
       "    </tr>\n",
       "    <tr>\n",
       "      <th>477</th>\n",
       "      <td>F</td>\n",
       "      <td>Jordan</td>\n",
       "      <td>Jordan</td>\n",
       "      <td>MiddleSchool</td>\n",
       "      <td>G-08</td>\n",
       "      <td>A</td>\n",
       "      <td>Geology</td>\n",
       "      <td>S</td>\n",
       "      <td>Father</td>\n",
       "      <td>55</td>\n",
       "      <td>74</td>\n",
       "      <td>25</td>\n",
       "      <td>29</td>\n",
       "      <td>No</td>\n",
       "      <td>Bad</td>\n",
       "      <td>Under-7</td>\n",
       "      <td>M</td>\n",
       "    </tr>\n",
       "    <tr>\n",
       "      <th>478</th>\n",
       "      <td>F</td>\n",
       "      <td>Jordan</td>\n",
       "      <td>Jordan</td>\n",
       "      <td>MiddleSchool</td>\n",
       "      <td>G-08</td>\n",
       "      <td>A</td>\n",
       "      <td>History</td>\n",
       "      <td>F</td>\n",
       "      <td>Father</td>\n",
       "      <td>30</td>\n",
       "      <td>17</td>\n",
       "      <td>14</td>\n",
       "      <td>57</td>\n",
       "      <td>No</td>\n",
       "      <td>Bad</td>\n",
       "      <td>Above-7</td>\n",
       "      <td>L</td>\n",
       "    </tr>\n",
       "    <tr>\n",
       "      <th>479</th>\n",
       "      <td>F</td>\n",
       "      <td>Jordan</td>\n",
       "      <td>Jordan</td>\n",
       "      <td>MiddleSchool</td>\n",
       "      <td>G-08</td>\n",
       "      <td>A</td>\n",
       "      <td>History</td>\n",
       "      <td>S</td>\n",
       "      <td>Father</td>\n",
       "      <td>35</td>\n",
       "      <td>14</td>\n",
       "      <td>23</td>\n",
       "      <td>62</td>\n",
       "      <td>No</td>\n",
       "      <td>Bad</td>\n",
       "      <td>Above-7</td>\n",
       "      <td>L</td>\n",
       "    </tr>\n",
       "  </tbody>\n",
       "</table>\n",
       "<p>480 rows × 17 columns</p>\n",
       "</div>"
      ],
      "text/plain": [
       "    gender NationalITy PlaceofBirth       StageID GradeID SectionID  \\\n",
       "0        M          KW       KuwaIT    lowerlevel    G-04         A   \n",
       "1        M          KW       KuwaIT    lowerlevel    G-04         A   \n",
       "2        M          KW       KuwaIT    lowerlevel    G-04         A   \n",
       "3        M          KW       KuwaIT    lowerlevel    G-04         A   \n",
       "4        M          KW       KuwaIT    lowerlevel    G-04         A   \n",
       "..     ...         ...          ...           ...     ...       ...   \n",
       "475      F      Jordan       Jordan  MiddleSchool    G-08         A   \n",
       "476      F      Jordan       Jordan  MiddleSchool    G-08         A   \n",
       "477      F      Jordan       Jordan  MiddleSchool    G-08         A   \n",
       "478      F      Jordan       Jordan  MiddleSchool    G-08         A   \n",
       "479      F      Jordan       Jordan  MiddleSchool    G-08         A   \n",
       "\n",
       "         Topic Semester Relation  raisedhands  VisITedResources  \\\n",
       "0           IT        F   Father           15                16   \n",
       "1           IT        F   Father           20                20   \n",
       "2           IT        F   Father           10                 7   \n",
       "3           IT        F   Father           30                25   \n",
       "4           IT        F   Father           40                50   \n",
       "..         ...      ...      ...          ...               ...   \n",
       "475  Chemistry        S   Father            5                 4   \n",
       "476    Geology        F   Father           50                77   \n",
       "477    Geology        S   Father           55                74   \n",
       "478    History        F   Father           30                17   \n",
       "479    History        S   Father           35                14   \n",
       "\n",
       "     AnnouncementsView  Discussion ParentAnsweringSurvey  \\\n",
       "0                    2          20                   Yes   \n",
       "1                    3          25                   Yes   \n",
       "2                    0          30                    No   \n",
       "3                    5          35                    No   \n",
       "4                   12          50                    No   \n",
       "..                 ...         ...                   ...   \n",
       "475                  5           8                    No   \n",
       "476                 14          28                    No   \n",
       "477                 25          29                    No   \n",
       "478                 14          57                    No   \n",
       "479                 23          62                    No   \n",
       "\n",
       "    ParentschoolSatisfaction StudentAbsenceDays Class  \n",
       "0                       Good            Under-7     M  \n",
       "1                       Good            Under-7     M  \n",
       "2                        Bad            Above-7     L  \n",
       "3                        Bad            Above-7     L  \n",
       "4                        Bad            Above-7     M  \n",
       "..                       ...                ...   ...  \n",
       "475                      Bad            Above-7     L  \n",
       "476                      Bad            Under-7     M  \n",
       "477                      Bad            Under-7     M  \n",
       "478                      Bad            Above-7     L  \n",
       "479                      Bad            Above-7     L  \n",
       "\n",
       "[480 rows x 17 columns]"
      ]
     },
     "execution_count": 18,
     "metadata": {},
     "output_type": "execute_result"
    }
   ],
   "source": [
    "#5 \n",
    "df = pd.read_csv(r'C:\\Users\\NV PRASAD\\Desktop\\B.Tech\\B.TECH 2ND YEAR 2ND SEM\\DATA SCIENCE\\Practical\\Practical-1\\xAPI-Edu-Data.csv')\n",
    "df"
   ]
  },
  {
   "cell_type": "code",
   "execution_count": 19,
   "metadata": {
    "colab": {
     "base_uri": "https://localhost:8080/",
     "height": 300
    },
    "id": "pHHp9R__vp4R",
    "outputId": "be33c1c7-d099-4913-a1c0-16d9f0adb979"
   },
   "outputs": [
    {
     "data": {
      "text/html": [
       "<div>\n",
       "<style scoped>\n",
       "    .dataframe tbody tr th:only-of-type {\n",
       "        vertical-align: middle;\n",
       "    }\n",
       "\n",
       "    .dataframe tbody tr th {\n",
       "        vertical-align: top;\n",
       "    }\n",
       "\n",
       "    .dataframe thead th {\n",
       "        text-align: right;\n",
       "    }\n",
       "</style>\n",
       "<table border=\"1\" class=\"dataframe\">\n",
       "  <thead>\n",
       "    <tr style=\"text-align: right;\">\n",
       "      <th></th>\n",
       "      <th>raisedhands</th>\n",
       "      <th>VisITedResources</th>\n",
       "      <th>AnnouncementsView</th>\n",
       "      <th>Discussion</th>\n",
       "    </tr>\n",
       "  </thead>\n",
       "  <tbody>\n",
       "    <tr>\n",
       "      <th>count</th>\n",
       "      <td>480.000000</td>\n",
       "      <td>480.000000</td>\n",
       "      <td>480.000000</td>\n",
       "      <td>480.000000</td>\n",
       "    </tr>\n",
       "    <tr>\n",
       "      <th>mean</th>\n",
       "      <td>46.775000</td>\n",
       "      <td>54.797917</td>\n",
       "      <td>37.918750</td>\n",
       "      <td>43.283333</td>\n",
       "    </tr>\n",
       "    <tr>\n",
       "      <th>std</th>\n",
       "      <td>30.779223</td>\n",
       "      <td>33.080007</td>\n",
       "      <td>26.611244</td>\n",
       "      <td>27.637735</td>\n",
       "    </tr>\n",
       "    <tr>\n",
       "      <th>min</th>\n",
       "      <td>0.000000</td>\n",
       "      <td>0.000000</td>\n",
       "      <td>0.000000</td>\n",
       "      <td>1.000000</td>\n",
       "    </tr>\n",
       "    <tr>\n",
       "      <th>25%</th>\n",
       "      <td>15.750000</td>\n",
       "      <td>20.000000</td>\n",
       "      <td>14.000000</td>\n",
       "      <td>20.000000</td>\n",
       "    </tr>\n",
       "    <tr>\n",
       "      <th>50%</th>\n",
       "      <td>50.000000</td>\n",
       "      <td>65.000000</td>\n",
       "      <td>33.000000</td>\n",
       "      <td>39.000000</td>\n",
       "    </tr>\n",
       "    <tr>\n",
       "      <th>75%</th>\n",
       "      <td>75.000000</td>\n",
       "      <td>84.000000</td>\n",
       "      <td>58.000000</td>\n",
       "      <td>70.000000</td>\n",
       "    </tr>\n",
       "    <tr>\n",
       "      <th>max</th>\n",
       "      <td>100.000000</td>\n",
       "      <td>99.000000</td>\n",
       "      <td>98.000000</td>\n",
       "      <td>99.000000</td>\n",
       "    </tr>\n",
       "  </tbody>\n",
       "</table>\n",
       "</div>"
      ],
      "text/plain": [
       "       raisedhands  VisITedResources  AnnouncementsView  Discussion\n",
       "count   480.000000        480.000000         480.000000  480.000000\n",
       "mean     46.775000         54.797917          37.918750   43.283333\n",
       "std      30.779223         33.080007          26.611244   27.637735\n",
       "min       0.000000          0.000000           0.000000    1.000000\n",
       "25%      15.750000         20.000000          14.000000   20.000000\n",
       "50%      50.000000         65.000000          33.000000   39.000000\n",
       "75%      75.000000         84.000000          58.000000   70.000000\n",
       "max     100.000000         99.000000          98.000000   99.000000"
      ]
     },
     "execution_count": 19,
     "metadata": {},
     "output_type": "execute_result"
    }
   ],
   "source": [
    "#5.1\n",
    "#describe\n",
    "df.describe()"
   ]
  },
  {
   "cell_type": "code",
   "execution_count": 20,
   "metadata": {
    "colab": {
     "base_uri": "https://localhost:8080/"
    },
    "id": "HtmLAL4kvsg8",
    "outputId": "a48ba273-259e-4d84-cf0a-9632bba03f13"
   },
   "outputs": [
    {
     "data": {
      "text/plain": [
       "raisedhands          46.775000\n",
       "VisITedResources     54.797917\n",
       "AnnouncementsView    37.918750\n",
       "Discussion           43.283333\n",
       "dtype: float64"
      ]
     },
     "execution_count": 20,
     "metadata": {},
     "output_type": "execute_result"
    }
   ],
   "source": [
    "#5.2\n",
    "#mean\n",
    "df.mean()"
   ]
  },
  {
   "cell_type": "code",
   "execution_count": 21,
   "metadata": {
    "colab": {
     "base_uri": "https://localhost:8080/"
    },
    "id": "drGn3CqFvupK",
    "outputId": "602dfb8e-9c6f-4e88-da45-e6d9fdf03911"
   },
   "outputs": [
    {
     "data": {
      "text/plain": [
       "raisedhands          50.0\n",
       "VisITedResources     65.0\n",
       "AnnouncementsView    33.0\n",
       "Discussion           39.0\n",
       "dtype: float64"
      ]
     },
     "execution_count": 21,
     "metadata": {},
     "output_type": "execute_result"
    }
   ],
   "source": [
    "#5.3\n",
    "#median\n",
    "df.median()"
   ]
  },
  {
   "cell_type": "code",
   "execution_count": 22,
   "metadata": {
    "colab": {
     "base_uri": "https://localhost:8080/"
    },
    "id": "258vlmo1vw27",
    "outputId": "2f1a10ea-ebcd-4a98-a7ec-349bc82e782e"
   },
   "outputs": [
    {
     "name": "stdout",
     "output_type": "stream",
     "text": [
      "  gender NationalITy PlaceofBirth       StageID GradeID SectionID\n",
      "0      M          KW       KuwaIT    lowerlevel    G-04         A\n",
      "1      M          KW       KuwaIT    lowerlevel    G-04         A\n",
      "2      M          KW       KuwaIT    lowerlevel    G-04         A\n",
      "3      M          KW       KuwaIT    lowerlevel    G-04         A\n",
      "4      M          KW       KuwaIT    lowerlevel    G-04         A\n",
      "5      F          KW       KuwaIT    lowerlevel    G-04         A\n",
      "6      M          KW       KuwaIT  MiddleSchool    G-07         A\n"
     ]
    }
   ],
   "source": [
    "#5.4\n",
    "#Slicing\n",
    "print(df.iloc[0:7,0:6])"
   ]
  }
 ],
 "metadata": {
  "colab": {
   "collapsed_sections": [],
   "name": "DS PRACTICAL-1.ipynb",
   "provenance": []
  },
  "kernelspec": {
   "display_name": "Python 3",
   "language": "python",
   "name": "python3"
  },
  "language_info": {
   "codemirror_mode": {
    "name": "ipython",
    "version": 3
   },
   "file_extension": ".py",
   "mimetype": "text/x-python",
   "name": "python",
   "nbconvert_exporter": "python",
   "pygments_lexer": "ipython3",
   "version": "3.9.1"
  }
 },
 "nbformat": 4,
 "nbformat_minor": 1
}
